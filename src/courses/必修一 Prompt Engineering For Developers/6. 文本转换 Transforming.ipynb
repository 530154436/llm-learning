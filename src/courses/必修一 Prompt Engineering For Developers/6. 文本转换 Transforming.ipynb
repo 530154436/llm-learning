{
 "cells": [
  {
   "cell_type": "markdown",
   "id": "08879154",
   "metadata": {
    "pycharm": {
     "name": "#%% md\n"
    }
   },
   "source": [
    "# 第六章 文本转换"
   ]
  },
  {
   "cell_type": "markdown",
   "id": "c885ce7b",
   "metadata": {
    "pycharm": {
     "name": "#%% md\n"
    }
   },
   "source": [
    "<div class=\"toc\">\n",
    " <ul class=\"toc-item\">\n",
    "     <li><span><a href=\"#一引言\" data-toc-modified-id=\"一、引言\">一、引言</a></span></li>\n",
    "     <li>\n",
    "         <span><a href=\"#二文本翻译\" data-toc-modified-id=\"二、文本翻译\">二、文本翻译</a></span>\n",
    "         <ul class=\"toc-item\">\n",
    "             <li><span><a href=\"#21-中文转西班牙语\" data-toc-modified-id=\"2.1 中文转西班牙语\">2.1 中文转西班牙语</a></span></li> \n",
    "             <li><span><a href=\"#22-识别语种\" data-toc-modified-id=\"2.2 识别语种\">2.2 识别语种</a></span></li>\n",
    "             <li><span><a href=\"#23-多语种翻译\" data-toc-modified-id=\"2.3 多语种翻译\">2.3 多语种翻译</a></span></li>\n",
    "             <li><span><a href=\"#24-同时进行语气转换\" data-toc-modified-id=\"2.4 同时进行语气转换\">2.4 同时进行语气转换</a></span></li>\n",
    "             <li><span><a href=\"#25-通用翻译器\" data-toc-modified-id=\"2.5 通用翻译器\">2.5 通用翻译器</a></span></li>\n",
    "             </ul>\n",
    "         </li>\n",
    "     <li><span><a href=\"#三语气与写作风格调整\" data-toc-modified-id=\"三、语气与写作风格调整\">三、语气与写作风格调整</a></span></li>\n",
    "     <li><span><a href=\"#四文件格式转换\" data-toc-modified-id=\"四、文件格式转换\">四、文件格式转换</a></span></li>\n",
    "     <li><span><a href=\"#五拼写及语法纠正\" data-toc-modified-id=\"五、拼写及语法纠正\">五、拼写及语法纠正</a></span></li>\n",
    "     <li><span><a href=\"#六综合样例\" data-toc-modified-id=\"六、综合样例\">六、综合样例</a></span></li>\n",
    "     </ul>\n",
    "</div>"
   ]
  },
  {
   "attachments": {},
   "cell_type": "markdown",
   "id": "78624add",
   "metadata": {
    "pycharm": {
     "name": "#%% md\n"
    }
   },
   "source": [
    "## 一、引言"
   ]
  },
  {
   "attachments": {},
   "cell_type": "markdown",
   "id": "2fac57c2",
   "metadata": {
    "pycharm": {
     "name": "#%% md\n"
    }
   },
   "source": [
    "LLM非常擅长将输入转换成不同的格式，典型应用包括多语种文本翻译、拼写及语法纠正、语气调整、格式转换等。\n",
    "\n",
    "本章节将介绍如何使用编程的方式，调用API接口来实现“文本转换”功能。"
   ]
  },
  {
   "attachments": {},
   "cell_type": "markdown",
   "id": "f7816496",
   "metadata": {
    "pycharm": {
     "name": "#%% md\n"
    }
   },
   "source": [
    "首先，我们需要OpenAI包，加载API密钥，定义getCompletion函数。"
   ]
  },
  {
   "cell_type": "code",
   "execution_count": 1,
   "outputs": [],
   "source": [
    "from src.utils.chat_robot import OpenAiChat"
   ],
   "metadata": {
    "collapsed": false,
    "pycharm": {
     "name": "#%%\n"
    }
   }
  },
  {
   "attachments": {},
   "cell_type": "markdown",
   "id": "bf3733d4",
   "metadata": {
    "pycharm": {
     "name": "#%% md\n"
    }
   },
   "source": [
    "## 二、文本翻译"
   ]
  },
  {
   "attachments": {},
   "cell_type": "markdown",
   "id": "1b418e32",
   "metadata": {
    "pycharm": {
     "name": "#%% md\n"
    }
   },
   "source": [
    "### 2.1 中文转西班牙语"
   ]
  },
  {
   "cell_type": "code",
   "execution_count": 2,
   "id": "8a5bee0c",
   "metadata": {
    "scrolled": true,
    "pycharm": {
     "name": "#%%\n"
    }
   },
   "outputs": [
    {
     "name": "stdout",
     "output_type": "stream",
     "text": [
      "Hola, me gustaría ordenar una batidora.\n"
     ]
    }
   ],
   "source": [
    "prompt = f\"\"\"\n",
    "将以下中文翻译成西班牙语: \\ \n",
    "```您好，我想订购一个搅拌机。```\n",
    "\"\"\"\n",
    "response = OpenAiChat.get_completion(prompt)\n",
    "print(response)"
   ]
  },
  {
   "attachments": {},
   "cell_type": "markdown",
   "id": "e3e922b4",
   "metadata": {
    "pycharm": {
     "name": "#%% md\n"
    }
   },
   "source": [
    "### 2.2 识别语种"
   ]
  },
  {
   "cell_type": "code",
   "execution_count": 3,
   "id": "c2c66002",
   "metadata": {
    "pycharm": {
     "name": "#%%\n"
    }
   },
   "outputs": [
    {
     "name": "stdout",
     "output_type": "stream",
     "text": [
      "这是法语。\n"
     ]
    }
   ],
   "source": [
    "prompt = f\"\"\"\n",
    "请告诉我以下文本是什么语种: \n",
    "```Combien coûte le lampadaire?```\n",
    "\"\"\"\n",
    "response = OpenAiChat.get_completion(prompt)\n",
    "print(response)"
   ]
  },
  {
   "attachments": {},
   "cell_type": "markdown",
   "id": "c1841354",
   "metadata": {
    "pycharm": {
     "name": "#%% md\n"
    }
   },
   "source": [
    "### 2.3 多语种翻译"
   ]
  },
  {
   "cell_type": "code",
   "execution_count": 4,
   "id": "b0c4fa41",
   "metadata": {
    "pycharm": {
     "name": "#%%\n"
    }
   },
   "outputs": [
    {
     "name": "stdout",
     "output_type": "stream",
     "text": [
      "中文：我想订购一个篮球。\n",
      "英文：I want to order a basketball.\n",
      "法语：Je veux commander un ballon de basket.\n",
      "西班牙语：Quiero pedir un balón de baloncesto.\n"
     ]
    }
   ],
   "source": [
    "prompt = f\"\"\"\n",
    "请将以下文本分别翻译成中文、英文、法语和西班牙语: \n",
    "```I want to order a basketball.```\n",
    "\"\"\"\n",
    "response = OpenAiChat.get_completion(prompt)\n",
    "print(response)"
   ]
  },
  {
   "attachments": {},
   "cell_type": "markdown",
   "id": "68723ba5",
   "metadata": {
    "pycharm": {
     "name": "#%% md\n"
    }
   },
   "source": [
    "### 2.4 同时进行语气转换"
   ]
  },
  {
   "cell_type": "code",
   "execution_count": 6,
   "id": "2c52ca54",
   "metadata": {
    "pycharm": {
     "name": "#%%\n"
    }
   },
   "outputs": [
    {
     "name": "stdout",
     "output_type": "stream",
     "text": [
      "正式：您想要订购一个枕头吗？\n",
      "非正式：你想要订购一个枕头吗？\n"
     ]
    }
   ],
   "source": [
    "prompt = f\"\"\"\n",
    "请将以下文本翻译成中文，分别展示成正式与非正式两种语气: \n",
    "```Would you like to order a pillow?```\n",
    "\"\"\"\n",
    "response = OpenAiChat.get_completion(prompt)\n",
    "print(response)"
   ]
  },
  {
   "attachments": {},
   "cell_type": "markdown",
   "id": "b2dc4c56",
   "metadata": {
    "pycharm": {
     "name": "#%% md\n"
    }
   },
   "source": [
    "### 2.5 通用翻译器"
   ]
  },
  {
   "attachments": {},
   "cell_type": "markdown",
   "id": "54b00aa4",
   "metadata": {
    "pycharm": {
     "name": "#%% md\n"
    }
   },
   "source": [
    "随着全球化与跨境商务的发展，交流的用户可能来自各个不同的国家，使用不同的语言，因此我们需要一个通用翻译器，识别各个消息的语种，并翻译成目标用户的母语，从而实现更方便的跨国交流。"
   ]
  },
  {
   "cell_type": "code",
   "execution_count": 7,
   "outputs": [],
   "source": [
    "user_messages = [\n",
    "  \"La performance du système est plus lente que d'habitude.\",  # System performance is slower than normal\n",
    "  \"Mi monitor tiene píxeles que no se iluminan.\",              # My monitor has pixels that are not lighting\n",
    "  \"Il mio mouse non funziona\",                                 # My mouse is not working\n",
    "  \"Mój klawisz Ctrl jest zepsuty\",                             # My keyboard has a broken control key\n",
    "  \"我的屏幕在闪烁\"                                             # My screen is flashing\n",
    "]"
   ],
   "metadata": {
    "collapsed": false,
    "pycharm": {
     "name": "#%%\n"
    }
   }
  },
  {
   "cell_type": "code",
   "execution_count": 9,
   "id": "6a884190",
   "metadata": {
    "pycharm": {
     "name": "#%%\n"
    }
   },
   "outputs": [
    {
     "name": "stdout",
     "output_type": "stream",
     "text": [
      "原始消息 (西班牙语): Mi monitor tiene píxeles que no se iluminan.\n",
      "\n",
      "中文翻译：我的显示器有一些像素不亮。\n",
      "英文翻译：My monitor has pixels that do not light up. \n",
      "=========================================\n",
      "原始消息 (意大利语): Il mio mouse non funziona\n",
      "\n",
      "中文翻译：我的鼠标不工作\n",
      "英文翻译：My mouse is not working \n",
      "=========================================\n",
      "原始消息 (波兰语): Mój klawisz Ctrl jest zepsuty\n",
      "\n",
      "中文翻译：我的Ctrl键坏了\n",
      "英文翻译：My Ctrl key is broken \n",
      "=========================================\n",
      "原始消息 (中文): 我的屏幕在闪烁\n",
      "\n",
      "中文翻译：我的屏幕在闪烁\n",
      "英文翻译：My screen is flickering \n",
      "=========================================\n",
      "原始消息 (法语): La performance du système est plus lente que d'habitude.\n",
      "\n",
      "中文翻译：系统性能比平时慢。\n",
      "英文翻译：The system performance is slower than usual. \n",
      "=========================================\n",
      "原始消息 (西班牙语): Mi monitor tiene píxeles que no se iluminan.\n",
      "\n",
      "中文翻译：我的显示器有一些像素不亮。\n",
      "英文翻译：My monitor has pixels that do not light up. \n",
      "=========================================\n",
      "原始消息 (意大利语): Il mio mouse non funziona\n",
      "\n",
      "中文翻译：我的鼠标不工作\n",
      "英文翻译：My mouse is not working \n",
      "=========================================\n",
      "原始消息 (波兰语): Mój klawisz Ctrl jest zepsuty\n",
      "\n",
      "中文翻译：我的Ctrl键坏了\n",
      "英文翻译：My Ctrl key is broken \n",
      "=========================================\n",
      "原始消息 (中文): 我的屏幕在闪烁\n",
      "\n",
      "中文翻译：我的屏幕在闪烁\n",
      "英文翻译：My screen is flickering \n",
      "=========================================\n"
     ]
    }
   ],
   "source": [
    "import time\n",
    "for issue in user_messages:\n",
    "    time.sleep(20)\n",
    "    prompt = f\"告诉我以下文本是什么语种，直接输出语种，如法语，无需输出标点符号: ```{issue}```\"\n",
    "    lang = OpenAiChat.get_completion(prompt)\n",
    "    print(f\"原始消息 ({lang}): {issue}\\n\")\n",
    "\n",
    "    prompt = f\"\"\"\n",
    "    将以下消息分别翻译成英文和中文，并写成\n",
    "    中文翻译：xxx\n",
    "    英文翻译：yyy\n",
    "    的格式：\n",
    "    ```{issue}```\n",
    "    \"\"\"\n",
    "    response = OpenAiChat.get_completion(prompt)\n",
    "    print(response, \"\\n=========================================\")"
   ]
  },
  {
   "attachments": {},
   "cell_type": "markdown",
   "id": "6ab558a2",
   "metadata": {
    "pycharm": {
     "name": "#%% md\n"
    }
   },
   "source": [
    "## 三、语气与写作风格调整"
   ]
  },
  {
   "attachments": {},
   "cell_type": "markdown",
   "id": "b85ae847",
   "metadata": {
    "pycharm": {
     "name": "#%% md\n"
    }
   },
   "source": [
    "写作的语气往往会根据受众对象而有所调整。例如，对于工作邮件，我们常常需要使用正式语气与书面用词，而对同龄朋友的微信聊天，可能更多地会使用轻松、口语化的语气。"
   ]
  },
  {
   "cell_type": "code",
   "execution_count": 14,
   "id": "84ce3099",
   "metadata": {
    "pycharm": {
     "name": "#%%\n"
    }
   },
   "outputs": [
    {
     "name": "stdout",
     "output_type": "stream",
     "text": [
      "尊敬的小老弟，\n",
      "\n",
      "我是小羊。上次你提到我们部门需要采购显示器，您能告诉我需要多大尺寸的显示器吗？\n",
      "\n",
      "谢谢！\n",
      "\n",
      "此致，\n",
      "\n",
      "小羊\n"
     ]
    }
   ],
   "source": [
    "prompt = f\"\"\"\n",
    "将以下文本翻译成商务信函的格式，使用中文回答:\n",
    "```小老弟，我小羊，上回你说咱部门要采购的显示器是多少寸来着？```\n",
    "\"\"\"\n",
    "response = OpenAiChat.get_completion(prompt)\n",
    "print(response)"
   ]
  },
  {
   "attachments": {},
   "cell_type": "markdown",
   "id": "98df9009",
   "metadata": {
    "pycharm": {
     "name": "#%% md\n"
    }
   },
   "source": [
    "## 四、文件格式转换"
   ]
  },
  {
   "attachments": {},
   "cell_type": "markdown",
   "id": "0bf9c074",
   "metadata": {
    "pycharm": {
     "name": "#%% md\n"
    }
   },
   "source": [
    "ChatGPT非常擅长不同格式之间的转换，例如JSON到HTML、XML、Markdown等。在下述例子中，我们有一个包含餐厅员工姓名和电子邮件的列表的JSON，我们希望将其从JSON转换为HTML。"
   ]
  },
  {
   "cell_type": "code",
   "execution_count": 15,
   "id": "fad3f358",
   "metadata": {
    "pycharm": {
     "name": "#%%\n"
    }
   },
   "outputs": [],
   "source": [
    "data_json = { \"resturant employees\" :[ \n",
    "    {\"name\":\"Shyam\", \"email\":\"shyamjaiswal@gmail.com\"},\n",
    "    {\"name\":\"Bob\", \"email\":\"bob32@gmail.com\"},\n",
    "    {\"name\":\"Jai\", \"email\":\"jai87@gmail.com\"}\n",
    "]}"
   ]
  },
  {
   "cell_type": "code",
   "execution_count": 16,
   "id": "f54e7398",
   "metadata": {
    "pycharm": {
     "name": "#%%\n"
    }
   },
   "outputs": [
    {
     "name": "stdout",
     "output_type": "stream",
     "text": [
      "<!DOCTYPE html>\n",
      "<html>\n",
      "<head>\n",
      "    <title>Restaurant Employees</title>\n",
      "</head>\n",
      "<body>\n",
      "\n",
      "<table border=\"1\">\n",
      "    <tr>\n",
      "        <th>Name</th>\n",
      "        <th>Email</th>\n",
      "    </tr>\n",
      "    <tr>\n",
      "        <td>Shyam</td>\n",
      "        <td>shyamjaiswal@gmail.com</td>\n",
      "    </tr>\n",
      "    <tr>\n",
      "        <td>Bob</td>\n",
      "        <td>bob32@gmail.com</td>\n",
      "    </tr>\n",
      "    <tr>\n",
      "        <td>Jai</td>\n",
      "        <td>jai87@gmail.com</td>\n",
      "    </tr>\n",
      "</table>\n",
      "\n",
      "</body>\n",
      "</html>\n"
     ]
    }
   ],
   "source": [
    "prompt = f\"\"\"\n",
    "将以下Python字典从JSON转换为HTML表格，保留表格标题和列名：{data_json}\n",
    "\"\"\"\n",
    "response = OpenAiChat.get_completion(prompt)\n",
    "print(response)"
   ]
  },
  {
   "cell_type": "code",
   "execution_count": 17,
   "id": "a0026f3c",
   "metadata": {
    "pycharm": {
     "name": "#%%\n"
    }
   },
   "outputs": [
    {
     "data": {
      "text/plain": "<IPython.core.display.HTML object>",
      "text/html": "<!DOCTYPE html>\n<html>\n<head>\n    <title>Restaurant Employees</title>\n</head>\n<body>\n\n<table border=\"1\">\n    <tr>\n        <th>Name</th>\n        <th>Email</th>\n    </tr>\n    <tr>\n        <td>Shyam</td>\n        <td>shyamjaiswal@gmail.com</td>\n    </tr>\n    <tr>\n        <td>Bob</td>\n        <td>bob32@gmail.com</td>\n    </tr>\n    <tr>\n        <td>Jai</td>\n        <td>jai87@gmail.com</td>\n    </tr>\n</table>\n\n</body>\n</html>"
     },
     "metadata": {},
     "output_type": "display_data"
    }
   ],
   "source": [
    "from IPython.display import display, Markdown, Latex, HTML, JSON\n",
    "display(HTML(response))"
   ]
  },
  {
   "attachments": {},
   "cell_type": "markdown",
   "id": "29b7167b",
   "metadata": {
    "pycharm": {
     "name": "#%% md\n"
    }
   },
   "source": [
    "## 五、拼写及语法纠正"
   ]
  },
  {
   "attachments": {},
   "cell_type": "markdown",
   "id": "22776140",
   "metadata": {
    "pycharm": {
     "name": "#%% md\n"
    }
   },
   "source": [
    "拼写及语法的检查与纠正是一个十分常见的需求，特别是使用非母语语言，例如，在论坛发帖时，或发表英文论文时，校对是一件十分重要的事情。\n",
    "\n",
    "下述例子给定了一个句子列表，其中有些句子存在拼写或语法问题，有些则没有，我们循环遍历每个句子，要求模型校对文本，如果正确则输出“未发现错误”，如果错误则输出纠正后的文本。"
   ]
  },
  {
   "cell_type": "code",
   "execution_count": 18,
   "id": "b7d04bc0",
   "metadata": {
    "pycharm": {
     "name": "#%%\n"
    }
   },
   "outputs": [],
   "source": [
    "text = [ \n",
    "  \"The girl with the black and white puppies have a ball.\",  # The girl has a ball.\n",
    "  \"Yolanda has her notebook.\", # ok\n",
    "  \"Its going to be a long day. Does the car need it’s oil changed?\",  # Homonyms\n",
    "  \"Their goes my freedom. There going to bring they’re suitcases.\",  # Homonyms\n",
    "  \"Your going to need you’re notebook.\",  # Homonyms\n",
    "  \"That medicine effects my ability to sleep. Have you heard of the butterfly affect?\", # Homonyms\n",
    "  \"This phrase is to cherck chatGPT for spelling abilitty\"  # spelling\n",
    "]"
   ]
  },
  {
   "cell_type": "code",
   "execution_count": 33,
   "id": "1ef55b7b",
   "metadata": {
    "pycharm": {
     "name": "#%%\n"
    }
   },
   "outputs": [
    {
     "name": "stdout",
     "output_type": "stream",
     "text": [
      "0 ```The girl with the black and white puppies has a ball.```\n",
      "1 未发现错误.\n",
      "2 ```It's going to be a long day. Does the car need its oil changed?```\n",
      "3 ```There goes my freedom. They're going to bring their suitcases.```\n",
      "4 ```You're going to need your notebook.```\n",
      "5 ```That medicine affects my ability to sleep. Have you heard of the butterfly effect?```\n",
      "6 ```This phrase is to check ChatGPT for spelling ability```\n"
     ]
    }
   ],
   "source": [
    "for i in range(len(text)):\n",
    "    time.sleep(1)\n",
    "    prompt = f\"\"\"请从语法和拼写的角度校对并更正三个反引号中的文本。\n",
    "    如果发现错误，输出更正后的文本，否则，输出“未发现错误”。\n",
    "\n",
    "    例如：\n",
    "    输入：I are happy.\n",
    "    输出：I am happy.\n",
    "\n",
    "    输入：I am happy.\n",
    "    输出：未发现错误.\n",
    "    ```{text[i]}```\"\"\"\n",
    "    response = OpenAiChat.get_completion(prompt)\n",
    "    print(i, response)"
   ]
  },
  {
   "attachments": {},
   "cell_type": "markdown",
   "id": "538181e0",
   "metadata": {
    "pycharm": {
     "name": "#%% md\n"
    }
   },
   "source": [
    "以下是一个简单的语法纠错示例（译注：与 Grammarly 功能类似），输入文本为一段关于熊猫玩偶的评价，输出为纠正后的文本。本例使用的 Prompt 较为简单，你也可以进一步要求进行语调的更改。"
   ]
  },
  {
   "cell_type": "code",
   "execution_count": 38,
   "id": "6696b06a",
   "metadata": {
    "pycharm": {
     "name": "#%%\n"
    }
   },
   "outputs": [],
   "source": [
    "text = f\"\"\"\n",
    "Got this for my daughter for her birthday cuz she keeps taking mine from my room. Yes, adults also like pandas too.  She takes it everywhere with her, and it's super soft and cute.  One of the ears is a bit lower than the other, and I don't think that was designed to be asymmetrical. It's a bit small for what I paid for it though. I think there might be other options that are bigger for the same price.  It arrived a day earlier than expected, so I got to play with it myself before I gave it to my daughter.\n",
    "\"\"\""
   ]
  },
  {
   "cell_type": "code",
   "execution_count": 45,
   "id": "50cca36e",
   "metadata": {
    "pycharm": {
     "name": "#%%\n"
    }
   },
   "outputs": [
    {
     "name": "stdout",
     "output_type": "stream",
     "text": [
      "I got this for my daughter for her birthday because she keeps taking mine from my room. Yes, adults also like pandas too. She takes it everywhere with her, and it's super soft and cute. One of the ears is a bit lower than the other, and I don't think that was designed to be asymmetrical. It's a bit small for what I paid for it though. I think there might be other options that are bigger for the same price. It arrived a day earlier than expected, so I got to play with it myself before I gave it to my daughter.\n"
     ]
    }
   ],
   "source": [
    "prompt = f\"校对并更正以下文本，保证语法和拼写正确：```{text}```\"\n",
    "response = OpenAiChat.get_completion(prompt)\n",
    "print(response)"
   ]
  },
  {
   "attachments": {},
   "cell_type": "markdown",
   "id": "2e2d1f6a",
   "metadata": {
    "pycharm": {
     "name": "#%% md\n"
    }
   },
   "source": [
    "引入 ```Redlines``` 包，详细显示并对比纠错过程："
   ]
  },
  {
   "cell_type": "code",
   "execution_count": 46,
   "id": "e8604dfb",
   "metadata": {
    "pycharm": {
     "name": "#%%\n"
    }
   },
   "outputs": [
    {
     "data": {
      "text/plain": "<IPython.core.display.Markdown object>",
      "text/markdown": "<span style='color:red;font-weight:700;text-decoration:line-through;'>Got </span><span style='color:green;font-weight:700;'>I got </span>this for my daughter for her birthday <span style='color:red;font-weight:700;text-decoration:line-through;'>cuz </span><span style='color:green;font-weight:700;'>because </span>she keeps taking mine from my <span style='color:red;font-weight:700;text-decoration:line-through;'>room.  </span><span style='color:green;font-weight:700;'>room. </span>Yes, adults also like pandas <span style='color:red;font-weight:700;text-decoration:line-through;'>too.  </span><span style='color:green;font-weight:700;'>too. </span>She takes it everywhere with her, and it's super soft and <span style='color:red;font-weight:700;text-decoration:line-through;'>cute.  </span><span style='color:green;font-weight:700;'>cute. </span>One of the ears is a bit lower than the other, and I don't think that was designed to be asymmetrical. It's a bit small for what I paid for it though. I think there might be other options that are bigger for the same <span style='color:red;font-weight:700;text-decoration:line-through;'>price.  </span><span style='color:green;font-weight:700;'>price. </span>It arrived a day earlier than expected, so I got to play with it myself before I gave it to my daughter."
     },
     "metadata": {},
     "output_type": "display_data"
    }
   ],
   "source": [
    "from redlines import Redlines\n",
    "from IPython.display import display, Markdown\n",
    "\n",
    "diff = Redlines(text,response)\n",
    "display(Markdown(diff.output_markdown))"
   ]
  },
  {
   "attachments": {},
   "cell_type": "markdown",
   "id": "3ee5d487",
   "metadata": {
    "pycharm": {
     "name": "#%% md\n"
    }
   },
   "source": [
    "## 六、综合样例\n",
    "下述例子展示了同一段评论，用一段prompt同时进行文本翻译+拼写纠正+风格调整+格式转换。"
   ]
  },
  {
   "cell_type": "code",
   "execution_count": 49,
   "id": "584dcc21",
   "metadata": {
    "pycharm": {
     "name": "#%%\n"
    }
   },
   "outputs": [],
   "source": [
    "text = f\"\"\"\n",
    "Got this for my daughter for her birthday cuz she keeps taking \\\n",
    "mine from my room.  Yes, adults also like pandas too.  She takes \\\n",
    "it everywhere with her, and it's super soft and cute.  One of the \\\n",
    "ears is a bit lower than the other, and I don't think that was \\\n",
    "designed to be asymmetrical. It's a bit small for what I paid for it \\\n",
    "though. I think there might be other options that are bigger for \\\n",
    "the same price.  It arrived a day earlier than expected, so I got \\\n",
    "to play with it myself before I gave it to my daughter.\n",
    "\"\"\""
   ]
  },
  {
   "cell_type": "code",
   "execution_count": 51,
   "id": "5061d6a3",
   "metadata": {
    "scrolled": true,
    "pycharm": {
     "name": "#%%\n"
    }
   },
   "outputs": [
    {
     "name": "stdout",
     "output_type": "stream",
     "text": [
      "【优点】超级柔软和可爱，适合孩子携带\n",
      "【缺点】耳朵有点不对称，有点小\n",
      "【总结】虽然有一些小问题，但整体来说还是物有所值的，而且比预期的时间提前到货，非常满意。适合作为生日礼物送给孩子。\n"
     ]
    }
   ],
   "source": [
    "prompt = f\"\"\"\n",
    "针对以下三个反引号之间的英文评论文本，\n",
    "首先进行拼写及语法纠错，\n",
    "然后将其转化成中文，\n",
    "再将其转化成优质淘宝评论的风格，从各种角度出发，分别说明产品的优点与缺点，并进行总结。\n",
    "润色一下描述，使评论更具有吸引力。\n",
    "输出结果格式为：\n",
    "【优点】xxx\n",
    "【缺点】xxx\n",
    "【总结】xxx\n",
    "注意，只需填写xxx部分，并分段输出。\n",
    "将结果输出成Markdown格式。\n",
    "```{text}```\n",
    "\"\"\"\n",
    "# 校对注：APA style guide是APA Style Guide是一套用于心理学和相关领域的研究论文写作和格式化的规则。\n",
    "# 它包括了文本的缩略版，旨在快速阅读，包括引用、解释和参考列表，\n",
    "# 其详细内容可参考：https://apastyle.apa.org/about-apa-style\n",
    "# 下一单元格内的汉化prompt内容由译者进行了本地化处理，仅供参考\n",
    "response = OpenAiChat.get_completion(prompt)\n",
    "print(response)"
   ]
  }
 ],
 "metadata": {
  "kernelspec": {
   "display_name": "Python 3",
   "language": "python",
   "name": "python3"
  },
  "language_info": {
   "codemirror_mode": {
    "name": "ipython",
    "version": 3
   },
   "file_extension": ".py",
   "mimetype": "text/x-python",
   "name": "python",
   "nbconvert_exporter": "python",
   "pygments_lexer": "ipython3",
   "version": "3.10.11"
  },
  "latex_envs": {
   "LaTeX_envs_menu_present": true,
   "autoclose": false,
   "autocomplete": true,
   "bibliofile": "biblio.bib",
   "cite_by": "apalike",
   "current_citInitial": 1,
   "eqLabelWithNumbers": true,
   "eqNumInitial": 1,
   "hotkeys": {
    "equation": "Ctrl-E",
    "itemize": "Ctrl-I"
   },
   "labels_anchors": false,
   "latex_user_defs": false,
   "report_style_numbering": false,
   "user_envs_cfg": false
  },
  "toc": {
   "base_numbering": 1,
   "nav_menu": {},
   "number_sections": true,
   "sideBar": true,
   "skip_h1_title": false,
   "title_cell": "Table of Contents",
   "title_sidebar": "Contents",
   "toc_cell": false,
   "toc_position": {},
   "toc_section_display": true,
   "toc_window_display": true
  }
 },
 "nbformat": 4,
 "nbformat_minor": 5
}