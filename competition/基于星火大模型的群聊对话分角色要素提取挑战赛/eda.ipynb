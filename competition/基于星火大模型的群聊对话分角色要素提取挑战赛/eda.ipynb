{
 "cells": [
  {
   "cell_type": "code",
   "execution_count": 4,
   "metadata": {
    "collapsed": true,
    "pycharm": {
     "name": "#%%\n"
    }
   },
   "outputs": [
    {
     "name": "stderr",
     "output_type": "stream",
     "text": [
      "Matplotlib is building the font cache; this may take a moment.\n"
     ]
    }
   ],
   "source": [
    "import numpy as np\n",
    "import matplotlib.pyplot as plt\n",
    "from src.utils.io import read_json"
   ]
  },
  {
   "cell_type": "code",
   "execution_count": 15,
   "outputs": [
    {
     "name": "stdout",
     "output_type": "stream",
     "text": [
      "<王勇7>：李强总 手办到了 我下午给你带过去 大概2点前到 你在公司嘛\n",
      "<李强5>：好的，在公司\n",
      "<王勇7>：哦了\n",
      "<李强5>：王勇7总，这个你们是不是没弄清楚？\n",
      "<王勇7>：现在应该是可以了 李强总 你看这周什么时间方便，我让企鹅和eric再来做下拜访 上次线下有说在拜访多交流嘛 刚好是把月初我们沟通四期的一些定制UI这些需求也强调一下\n",
      "<李强5>：王勇7总，估计还得在等一等，我们现在又有变化，要把业务划到下面公司去\n",
      "<王勇7>：下面公司是脱离北燃的组织架构了吗\n",
      "<李强5>：不是脱离，就是业务下沉\n",
      "<王勇7>：明白\n",
      "<李强5>：等正式确定了，在推进业务\n",
      "<王勇7>：企鹅他们也是正常的回访交流，我想着上回针对北燃优选有些建议嘛，可以强调，等业务正式确认就不用在拉高层领导了，以后前期做好铺垫 我这也都可以，看李强总这边方便\n",
      "<李强5>：还是先等等王勇7总\n",
      "<王勇7>：可以的，按你的节奏来\n",
      "<李强5>：集团变化太快\n",
      "<王勇7>：哈哈，明白 我最近出差了几个城市，湖南省杭州市银泰商城 包括一些水务 供热单位 做了几个方案 我发你瞅瞅\n",
      "<李强5>：他们都做商城吗\n",
      "<王勇7>：对\n",
      "<李强5>：嗯嗯，多谢\n",
      "<王勇7>：都打算往增值业务这边转型\n",
      "<李强5>：正好我们借鉴一下\n",
      "<王勇7>：但是很多企业太单薄有些，要不就是下面业务公司太多，各是各的主体单独运作\n",
      "<李强5>：那没问题\n",
      "<王勇7>：要不就是基础没搭建好，0-1\n",
      "<李强5>：只要他们有这个意向就行\n",
      "<王勇7>：我们做的方案比较长线，可以李强总参考大致看下每家的方向\n",
      "<李强5>：好的\n",
      "<王勇7>：腾飞有限公司大领导往下压的强指标，所以各副总都要响应落实 这个是中国燃气的\n",
      "<李强5>：嗯，壹品慧我八月份去调研过\n",
      "<王勇7>：这个是上个月我们的汇报材料 这个是武汉燃气的汇报材料\n",
      "<李强5>：这个企微SCRM平台是什么\n",
      "<王勇7>：就是巨石蓝海的基于企业微信接口开发的工具\n",
      "<李强5>：那这个平台和商城平台是融合一起的吗\n",
      "<王勇7>：对的，咱们四期规划就是做企微工具跟咱们北燃优选做关联打通 北燃优选赋能企微的能力\n",
      "<李强5>：你们实地调研的效果挺好\n",
      "<王勇7>：腾飞有限公司的上周我调研了2天，见了他们5个公司，目前大方案在梳理中，到时做好也同步你一下 涉及他们的燃气，供热，内部私有化，兼容这一部分\n",
      "<李强5>：你说的热力公司有吗\n",
      "<王勇7>：对的 热力的 这个是华润燃气的24年我们运营汇报材料\n",
      "<李强5>：我先学习学习\n",
      "<王勇7>：行的李强总 你先看看\n"
     ]
    }
   ],
   "source": [
    "train_data = read_json(\"dataset/train.json\")\n",
    "test_data = read_json(\"dataset/test_data.json\")\n",
    "print(test_data[2].get(\"chat_text\"))"
   ],
   "metadata": {
    "collapsed": false,
    "pycharm": {
     "name": "#%%\n"
    }
   }
  },
  {
   "cell_type": "code",
   "execution_count": 3,
   "outputs": [
    {
     "name": "stdout",
     "output_type": "stream",
     "text": [
      "6891.410852713178 29578 334\n",
      "6755.4 29759 321\n"
     ]
    }
   ],
   "source": [
    "train_data_lens = [len(item.get(\"chat_text\")) for item in train_data]\n",
    "test_data_lens = [len(item.get(\"chat_text\")) for item in test_data]\n",
    "print(np.average(train_data_lens), np.max(train_data_lens), np.min(train_data_lens))  # 6755.4,29759,321\n",
    "print(np.average(test_data_lens), np.max(test_data_lens), np.min(test_data_lens))  # 6755.4,29759,321"
   ],
   "metadata": {
    "collapsed": false,
    "pycharm": {
     "name": "#%%\n"
    }
   }
  },
  {
   "cell_type": "code",
   "execution_count": 8,
   "outputs": [
    {
     "data": {
      "text/plain": "<Figure size 800x400 with 2 Axes>",
      "image/png": "[encoded data removed]"
     },
     "metadata": {},
     "output_type": "display_data"
    }
   ],
   "source": [
    "plt.rcParams['font.family'] = ['STFangsong']\n",
    "plt.rcParams['axes.unicode_minus'] = False\n",
    "\n",
    "# 创建一个图形对象和两个子图\n",
    "fig, (ax1, ax2) = plt.subplots(1, 2, figsize=(8, 4))\n",
    "\n",
    "# 在第一个子图中绘制第一个直方图\n",
    "ax1.hist(train_data_lens, bins=30, alpha=0.7, color='blue')\n",
    "ax1.set_title('训练集')\n",
    "ax1.set_xlabel('文本长度')\n",
    "ax1.set_ylabel('数量')\n",
    "\n",
    "# 在第二个子图中绘制第二个直方图\n",
    "ax2.hist(test_data_lens, bins=30, alpha=0.7, color='green')\n",
    "ax2.set_title('测试集')\n",
    "ax2.set_xlabel('文本长度')\n",
    "ax2.set_ylabel('数量')\n",
    "\n",
    "# 显示图形\n",
    "plt.tight_layout()\n",
    "plt.show()"
   ],
   "metadata": {
    "collapsed": false,
    "pycharm": {
     "name": "#%%\n"
    }
   }
  },
  {
   "cell_type": "code",
   "execution_count": 10,
   "outputs": [
    {
     "name": "stdout",
     "output_type": "stream",
     "text": [
      "王勇7：周勇8您方便电话沟通下吗\n",
      "周勇8：好的 13221352438\n",
      "王勇7：您电话多少我打给您 好的\n",
      "王勇7：好的\n",
      "周勇8：您看这三个资料的内容您这边可以提供吗？ 如果没问题我就找招标办的同事给审一下，走我们内部流程了哈\n",
      "王勇7：可以提供 我这边内部正在整理输出 稍等下哈周老师 周老师咱们本次购买扩容外部联系人的企业微信的公司全称发我一下吧 是银座有限公司吗\n",
      "周勇8：「王勇7：是银座有限公司吗」 - - - - - - - - - - - - - - - 是的\n",
      "王勇7：好的 然后腾讯企微这块需要咱们签订的协议我也整理下发您 稍等下发您\n",
      "周勇8：这样的话是我们跟你们签协议吧 招标的是你们\n",
      "王勇7：对的周老师 我们应标\n",
      "周勇8：腾讯协议也要我们跟他们签么？\n",
      "王勇7：和我们 然后我们三方签个补充开票协议就可以了\n",
      "周勇8：哦哦\n",
      "王勇7：相当于我们垫资给咱们开通，然后开票您在打款给我们\n",
      "周勇8：好的\n",
      "王勇7：嗯嗯\n",
      "王勇7：没问题周老师 您走内部流程吧\n",
      "周勇8：好来 报价清单需要您填一下，辛苦您哈 只差这个了，其它没问题了\n",
      "王勇7：好的 周老师咱们标有内部确认发出吗\n",
      "周勇8：已经提请了 正在跟进审批中 咱们可以准备协议，等资料了\n",
      "王勇7：好的\n",
      "周勇8：好来，明天回公司马上补充完善\n",
      "王勇7：好的\n",
      "周勇8：您好，您在么？ 腾讯那边有给咱们公司针对这次合作的授权资料么？ 走招标需要证明 您和企微这边的关系，要有授权资料呢哦\n",
      "王勇7：稍等我问一下哈 刚问了下 这个外部联系人腾讯没有授权资料 没有开证明的\n",
      "周勇8：好的 王勇7老师，辉煌有限公司的招标平台，需要咱们招标单位从里边登记一下哈，辛苦您方便的时候登录一下吧\n",
      "王勇7：好的\n",
      "周勇8：这个下订单不一定付款，只需要这个订单编号是吧 今天点了，下次付款不会变吧\n",
      "王勇7：是的 只要编号\n",
      "周勇8：好的\n",
      "王勇7：咱们双方弄完盖章在给到腾讯那边走流程\n",
      "周勇8：我们盖章需要招标完成后才能走协议盖章流程\n",
      "王勇7：如果咱们这种流程估摸着真够呛 腾讯那边走盖章肯定7天以上走\n",
      "周勇8：那您那边代付款也得月底差不多才能走完手续了~~\n",
      "王勇7：咱们尽快先走流程吧\n",
      "周勇8：那我们跟盖总这边看看再申请到什么时候比较合适\n",
      "王勇7：我这边供应商也在走\n",
      "周勇8：好\n",
      "王勇7：咱们外部联系人的合同 巨石蓝海和咱们银座有限公司\n",
      "周勇8：嗯呢\n",
      "王勇7：具体流程是不是参标，中标，然后签约，开票 这个能2天内搞定嘛周老师\n",
      "周勇8：是的呢 参标中标这个估计在下周中差不多，招标基本差不多了，正在申请中标费用的申请，这个批了后，咱们在我们系统中登记成功了后，就发标书，您那边提报相关资质，然后有个 远程视频的价格确定会议（招标流程中要的程序、存档），然后中标，接着签约、开票（协议可以提前准备好，直接签约盖章），盖完章紧接着开票、付款\n",
      "王勇7：咱们预计发标书是下周几 我尽量周一把供应商的全部搞定\n",
      "周勇8：快的话周一或者周二\n",
      "王勇7：好\n",
      "周勇8：王勇7老师，是这个编号吧\n",
      "王勇7：读碟 对的 是这个编号\n",
      "周勇8：好的 我们现在是订单提交未付款状态没问题哈\n",
      "王勇7：没问题\n",
      "周勇8：好来\n",
      "王勇7：周老师咱们的供应商审核还麻烦让相关的老师做下审批\n",
      "周勇8：好来\n",
      "王勇7：周老师 辉煌有限公司有没有关账时间，我对接的几个国企12月底都有关账时间的，您可以提前获知一下\n",
      "周勇8：好来明天给您回复哈\n",
      "王勇7：好的好的 周老师咱们有啥进展吗 是银座有限公司\n"
     ]
    }
   ],
   "source": [
    "# train_data = read_json(\"dataset/train.json\")\n",
    "test_data_pp = read_json(\"dataset/test_data_pp.json\")\n",
    "print(test_data_pp[9].get(\"chat_text\"))"
   ],
   "metadata": {
    "collapsed": false,
    "pycharm": {
     "name": "#%%\n"
    }
   }
  },
  {
   "cell_type": "code",
   "execution_count": null,
   "outputs": [],
   "source": [],
   "metadata": {
    "collapsed": false,
    "pycharm": {
     "name": "#%%\n"
    }
   }
  }
 ],
 "metadata": {
  "kernelspec": {
   "display_name": "Python 3",
   "language": "python",
   "name": "python3"
  },
  "language_info": {
   "codemirror_mode": {
    "name": "ipython",
    "version": 2
   },
   "file_extension": ".py",
   "mimetype": "text/x-python",
   "name": "python",
   "nbconvert_exporter": "python",
   "pygments_lexer": "ipython2",
   "version": "2.7.6"
  }
 },
 "nbformat": 4,
 "nbformat_minor": 0
}