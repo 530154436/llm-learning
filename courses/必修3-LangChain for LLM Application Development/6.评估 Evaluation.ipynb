{
 "cells": [
  {
   "cell_type": "markdown",
   "id": "52824b89-532a-4e54-87e9-1410813cd39e",
   "metadata": {
    "pycharm": {
     "name": "#%% md\n"
    }
   },
   "source": [
    "# 第六章 评估\n",
    "\n",
    " - [一、设置OpenAI API Key](#一、设置OpenAI-API-Key)\n",
    " - [二、 LLM生成测试用例](#二、-LLM生成测试用例)\n",
    "     - [2.1 创建LLM应用](#2.1-创建LLM应用)\n",
    "     - [2.2 通过LLM生成测试用例](#2.2-通过LLM生成测试用例)\n",
    " - [三、 人工评估](#三、-人工评估)\n",
    "     - [3.1 如何评估新创建的实例](#3.1-如何评估新创建的实例)\n",
    "     - [3.2 中文版](#3.2-中文版)\n",
    " - [四、 通过LLM进行评估实例](#四、-通过LLM进行评估实例)\n",
    "     - [4.1  评估思路](#4.1--评估思路)\n",
    "     - [4.2 结果分析](#4.2-结果分析)\n",
    "     - [3.3 通过LLM进行评估实例](#3.3-通过LLM进行评估实例)\n"
   ]
  },
  {
   "cell_type": "markdown",
   "source": [
    "## 一、设置OpenAI API Key\n",
    "\n",
    "登陆 [OpenAI 账户](https://platform.openai.com/account/api-keys) 获取API Key，然后将其设置为环境变量。\n",
    "\n",
    "- 如果你想要设置为全局环境变量，可以参考[知乎文章](https://zhuanlan.zhihu.com/p/627665725)。\n",
    "- 如果你想要设置为本地/项目环境变量，在本文件目录下创建`.env`文件, 打开文件输入以下内容。\n",
    "\n",
    "    <p style=\"font-family:verdana; font-size:12px;color:green\">\n",
    "    OPENAI_API_KEY=\"your_api_key\"\n",
    "    </p>\n",
    "\n",
    "  替换\"your_api_key\"为你自己的 API Key"
   ],
   "metadata": {
    "collapsed": false,
    "pycharm": {
     "name": "#%% md\n"
    }
   }
  },
  {
   "cell_type": "markdown",
   "id": "28008949",
   "metadata": {
    "tags": [],
    "pycharm": {
     "name": "#%% md\n"
    }
   },
   "source": [
    "## 二、 LLM生成测试用例\n",
    "### 2.1 创建LLM应用"
   ]
  },
  {
   "cell_type": "code",
   "execution_count": 1,
   "outputs": [
    {
     "data": {
      "text/plain": "              0                                                  1\n0  product_name                                        description\n1        全自动咖啡机  规格:\\n大型 - 尺寸：13.8'' x 17.3''。\\n中型 - 尺寸：11.5'' ...\n2          电动牙刷  规格:\\n一般大小 - 高度：9.5''，宽度：1''。\\n\\n为什么我们热爱它:\\n我们的...\n3     橙味维生素C泡腾片  规格:\\n每盒含有20片。\\n\\n为什么我们热爱它:\\n我们的橙味维生素C泡腾片是快速补充维...\n4        无线蓝牙耳机  规格:\\n单个耳机尺寸：1.5'' x 1.3''。\\n\\n为什么我们热爱它:\\n这款无线蓝...",
      "text/html": "<div>\n<style scoped>\n    .dataframe tbody tr th:only-of-type {\n        vertical-align: middle;\n    }\n\n    .dataframe tbody tr th {\n        vertical-align: top;\n    }\n\n    .dataframe thead th {\n        text-align: right;\n    }\n</style>\n<table border=\"1\" class=\"dataframe\">\n  <thead>\n    <tr style=\"text-align: right;\">\n      <th></th>\n      <th>0</th>\n      <th>1</th>\n    </tr>\n  </thead>\n  <tbody>\n    <tr>\n      <th>0</th>\n      <td>product_name</td>\n      <td>description</td>\n    </tr>\n    <tr>\n      <th>1</th>\n      <td>全自动咖啡机</td>\n      <td>规格:\\n大型 - 尺寸：13.8'' x 17.3''。\\n中型 - 尺寸：11.5'' ...</td>\n    </tr>\n    <tr>\n      <th>2</th>\n      <td>电动牙刷</td>\n      <td>规格:\\n一般大小 - 高度：9.5''，宽度：1''。\\n\\n为什么我们热爱它:\\n我们的...</td>\n    </tr>\n    <tr>\n      <th>3</th>\n      <td>橙味维生素C泡腾片</td>\n      <td>规格:\\n每盒含有20片。\\n\\n为什么我们热爱它:\\n我们的橙味维生素C泡腾片是快速补充维...</td>\n    </tr>\n    <tr>\n      <th>4</th>\n      <td>无线蓝牙耳机</td>\n      <td>规格:\\n单个耳机尺寸：1.5'' x 1.3''。\\n\\n为什么我们热爱它:\\n这款无线蓝...</td>\n    </tr>\n  </tbody>\n</table>\n</div>"
     },
     "execution_count": 1,
     "metadata": {},
     "output_type": "execute_result"
    }
   ],
   "source": [
    "#查看数据\n",
    "import pandas as pd\n",
    "file = 'data/product_data.csv'\n",
    "data = pd.read_csv(file,header=None)\n",
    "data.head()"
   ],
   "metadata": {
    "collapsed": false,
    "pycharm": {
     "name": "#%%\n"
    }
   }
  },
  {
   "cell_type": "code",
   "execution_count": 2,
   "id": "974acf8e-8f88-42de-88f8-40a82cb58e8b",
   "metadata": {
    "height": 98,
    "pycharm": {
     "name": "#%%\n"
    }
   },
   "outputs": [
    {
     "name": "stdout",
     "output_type": "stream",
     "text": [
      "page_content=\"product_name: 全自动咖啡机\\ndescription: 规格:\\n大型 - 尺寸：13.8'' x 17.3''。\\n中型 - 尺寸：11.5'' x 15.2''。\\n\\n为什么我们热爱它:\\n这款全自动咖啡机是爱好者的理想选择。 一键操作，即可研磨豆子并沏制出您喜爱的咖啡。它的耐用性和一致性使它成为家庭和办公室的理想选择。\\n\\n材质与护理:\\n清洁时只需轻擦。\\n\\n构造:\\n由高品质不锈钢制成。\\n\\n其他特性:\\n内置研磨器和滤网。\\n预设多种咖啡模式。\\n在中国制造。\\n\\n有问题？ 请随时联系我们的客户服务团队，他们会解答您的所有问题。\" metadata={'source': 'data/product_data.csv', 'row': 0}\n",
      "<class 'langchain_openai.embeddings.base.OpenAIEmbeddings'>\n"
     ]
    },
    {
     "name": "stderr",
     "output_type": "stream",
     "text": [
      "/Users/chubin.zheng/ENVS/llm-learning/lib/python3.10/site-packages/pydantic/_migration.py:283: UserWarning: `pydantic.error_wrappers:ValidationError` has been moved to `pydantic:ValidationError`.\n",
      "  warnings.warn(f'`{import_path}` has been moved to `{new_location}`.')\n"
     ]
    },
    {
     "data": {
      "text/plain": "RetrievalQA(verbose=True, combine_documents_chain=StuffDocumentsChain(llm_chain=LLMChain(prompt=ChatPromptTemplate(input_variables=['context', 'question'], messages=[SystemMessagePromptTemplate(prompt=PromptTemplate(input_variables=['context'], template=\"Use the following pieces of context to answer the user's question. \\nIf you don't know the answer, just say that you don't know, don't try to make up an answer.\\n----------------\\n{context}\")), HumanMessagePromptTemplate(prompt=PromptTemplate(input_variables=['question'], template='{question}'))]), llm=ChatOpenAI(client=<openai.resources.chat.completions.Completions object at 0x14cd7b9d0>, async_client=<openai.resources.chat.completions.AsyncCompletions object at 0x14c4797e0>, model_name='gpt-3.5-turbo-0301', temperature=0.0, openai_api_key=SecretStr('**********'), openai_api_base='https://api.chatanywhere.com.cn/v1', openai_proxy='')), document_variable_name='context'), retriever=VectorStoreRetriever(tags=['DocArrayInMemorySearch'], vectorstore=<langchain_community.vectorstores.docarray.in_memory.DocArrayInMemorySearch object at 0x14cddb100>))"
     },
     "execution_count": 2,
     "metadata": {},
     "output_type": "execute_result"
    }
   ],
   "source": [
    "import os\n",
    "from langchain.chains.retrieval_qa.base import RetrievalQA #检索QA链，在文档上进行检索\n",
    "from langchain_openai import ChatOpenAI #openai模型\n",
    "from langchain.document_loaders import CSVLoader #文档加载器，采用csv格式存储\n",
    "from langchain_openai.embeddings import OpenAIEmbeddings\n",
    "from langchain_community.vectorstores.docarray.in_memory import DocArrayInMemorySearch\n",
    "\n",
    "\n",
    "file = 'data/product_data.csv'\n",
    "API_KEY = os.environ.get(\"CHAT_ANYWHERE_API_KEY\")\n",
    "BASE_URL = \"https://api.chatanywhere.com.cn/v1\"\n",
    "\n",
    "#创建一个文档加载器，通过csv格式加载\n",
    "loader = CSVLoader(file_path=file)\n",
    "docs = loader.load()\n",
    "print(docs[0])\n",
    "\n",
    "# 向量\n",
    "embeddings = OpenAIEmbeddings(openai_api_base=BASE_URL,\n",
    "                              openai_api_key=API_KEY,\n",
    "                              model= \"text-embedding-ada-002\") #初始化\n",
    "print(type(embeddings))\n",
    "\n",
    "#因为文档比较短了，所以这里不需要进行任何分块,可以直接进行向量表征\n",
    "#使用初始化OpenAIEmbedding实例上的查询方法embed_query为文本创建向量表征\n",
    "embed = embeddings.embed_query(\"Hi my name is Harrison\")\n",
    "\n",
    "# 基于向量表征创建向量存储\n",
    "db = DocArrayInMemorySearch.from_documents(docs, embeddings)\n",
    "\n",
    "\n",
    "llm = ChatOpenAI(base_url=BASE_URL, api_key=API_KEY,\n",
    "                 model=\"gpt-3.5-turbo-0301\", temperature=0.0)\n",
    "qa = RetrievalQA.from_chain_type(\n",
    "    llm=llm,\n",
    "    chain_type=\"stuff\",\n",
    "    retriever=db.as_retriever(),\n",
    "    verbose=True\n",
    ")\n",
    "\n",
    "qa"
   ]
  },
  {
   "cell_type": "markdown",
   "id": "791ebd73",
   "metadata": {
    "pycharm": {
     "name": "#%% md\n"
    }
   },
   "source": [
    "### 2.1 通过LLM生成测试用例\n",
    "1、将自己想出好的数据点作为例子，查看一些数据，然后想出例子问题和答案，以便以后用于评估"
   ]
  },
  {
   "cell_type": "code",
   "execution_count": 3,
   "outputs": [
    {
     "data": {
      "text/plain": "Document(page_content=\"product_name: 高清电视机\\ndescription: 规格:\\n尺寸：50''。\\n\\n为什么我们热爱它:\\n我们的高清电视机拥有出色的画质和强大的音效，带来沉浸式的观看体验。\\n\\n材质与护理:\\n使用干布清洁。\\n\\n构造:\\n由塑料、金属和电子元件制成。\\n\\n其他特性:\\n支持网络连接，可以在线观看视频。\\n配备遥控器。\\n在韩国制造。\\n\\n有问题？请随时联系我们的客户服务团队，他们会解答您的所有问题。\", metadata={'source': 'data/product_data.csv', 'row': 10})"
     },
     "execution_count": 3,
     "metadata": {},
     "output_type": "execute_result"
    }
   ],
   "source": [
    "docs[10]"
   ],
   "metadata": {
    "collapsed": false,
    "pycharm": {
     "name": "#%%\n"
    }
   }
  },
  {
   "cell_type": "code",
   "execution_count": 35,
   "outputs": [],
   "source": [
    "# 测试用例数据\n",
    "examples = [\n",
    "    {\n",
    "        \"query\": \"高清电视机怎么进行护理？\",\n",
    "        \"answer\": \"使用干布清洁。\"\n",
    "    },\n",
    "    {\n",
    "        \"query\": \"旅行背包有内外袋吗？\",\n",
    "        \"answer\": \"有。\"\n",
    "    }\n",
    "]"
   ],
   "metadata": {
    "collapsed": false,
    "pycharm": {
     "name": "#%%\n"
    }
   }
  },
  {
   "cell_type": "markdown",
   "id": "c7ce3e4f",
   "metadata": {
    "pycharm": {
     "name": "#%% md\n"
    }
   },
   "source": [
    "2、通过LLM生成测试用例\n",
    "由于`QAGenerateChain`类中使用的`PROMPT`是英文，故我们继承`QAGenerateChain`类，将`PROMPT`加上“请使用中文输出”。"
   ]
  },
  {
   "cell_type": "code",
   "execution_count": 40,
   "id": "d9c7342c",
   "metadata": {
    "pycharm": {
     "name": "#%%\n"
    }
   },
   "outputs": [
    {
     "name": "stderr",
     "output_type": "stream",
     "text": [
      "/Users/chubin.zheng/ENVS/llm-learning/lib/python3.10/site-packages/langchain/chains/llm.py:367: UserWarning: The apply_and_parse method is deprecated, instead pass an output parser directly to LLMChain.\n",
      "  warnings.warn(\n"
     ]
    },
    {
     "data": {
      "text/plain": "[{'qa_pairs': {'query': '这款全自动咖啡机的尺寸有哪些选择？ ',\n   'answer': \"这款全自动咖啡机有大型和中型两种尺寸，分别为13.8'' x 17.3''和11.5'' x 15.2''。\"}},\n {'qa_pairs': {'query': '这款电动牙刷的材质是什么制成的？', 'answer': '这款电动牙刷由食品级塑料和尼龙刷毛制成。'}},\n {'qa_pairs': {'query': '这种泡腾片的主要成分是什么？', 'answer': '主要成分为维生素C和柠檬酸钠。'}},\n {'qa_pairs': {'query': '这款无线蓝牙耳机有哪些特点？',\n   'answer': '这款无线蓝牙耳机配备了降噪技术和长达8小时的电池续航力，内置麦克风，支持接听电话，具有快速充电功能。它由耐用的塑料和金属构成，配备有软质耳塞，只需用湿布清洁。此外，这款耳机在韩国制造。'}},\n {'qa_pairs': {'query': '这款瑜伽垫的尺寸是多少？', 'answer': \"这款瑜伽垫的尺寸是24'' x 68''。\"}}]"
     },
     "execution_count": 40,
     "metadata": {},
     "output_type": "execute_result"
    }
   ],
   "source": [
    "from typing import Any\n",
    "from langchain_core.language_models import BaseLanguageModel\n",
    "from langchain.evaluation.qa import QAGenerateChain # QA生成链:接收文档，并从每个文档中创建一个问题答案对\n",
    "from langchain.evaluation.qa.generate_prompt import template\n",
    "from langchain_core.prompts import PromptTemplate\n",
    "\n",
    "\n",
    "MY_TEMPLATE = template + \"\\n请使用中文输出.\"\n",
    "MY_PROMPT = PromptTemplate(input_variables=[\"doc\"], template=MY_TEMPLATE)\n",
    "\n",
    "\n",
    "class MyQAGenerateChain(QAGenerateChain):\n",
    "    \"\"\"继承QAGenerateChain\"\"\"\n",
    "\n",
    "    @classmethod\n",
    "    def from_llm(cls, llm: BaseLanguageModel, **kwargs: Any) -> QAGenerateChain:\n",
    "        \"\"\"Load QA Generate Chain from LLM.\"\"\"\n",
    "        return cls(llm=llm, prompt=MY_PROMPT, **kwargs)\n",
    "\n",
    "\n",
    "# 通过传递chat open AI语言模型来创建这个链\n",
    "example_gen_chain = MyQAGenerateChain.from_llm(llm=llm)\n",
    "new_examples = example_gen_chain.apply_and_parse([{\"doc\": t} for t in docs[:5]])\n",
    "new_examples"
   ]
  },
  {
   "cell_type": "code",
   "execution_count": 41,
   "id": "8d33b5de",
   "metadata": {
    "pycharm": {
     "name": "#%%\n"
    }
   },
   "outputs": [
    {
     "name": "stdout",
     "output_type": "stream",
     "text": [
      "\n",
      "\n",
      "\u001B[1m> Entering new RetrievalQA chain...\u001B[0m\n",
      "\n",
      "\u001B[1m> Finished chain.\u001B[0m\n"
     ]
    },
    {
     "data": {
      "text/plain": "{'query': '这款全自动咖啡机的尺寸有哪些选择？ ',\n 'result': \"这款全自动咖啡机有两种尺寸可选：大型尺寸为13.8'' x 17.3''，中型尺寸为11.5'' x 15.2''。\"}"
     },
     "execution_count": 41,
     "metadata": {},
     "output_type": "execute_result"
    }
   ],
   "source": [
    "new_examples = list(map(lambda x: x.pop('qa_pairs'), new_examples))\n",
    "examples += new_examples\n",
    "qa.invoke(examples[2][\"query\"])"
   ]
  },
  {
   "cell_type": "markdown",
   "id": "63f3cb08",
   "metadata": {
    "pycharm": {
     "name": "#%% md\n"
    }
   },
   "source": [
    "## 三、 人工评估\n",
    "现在有了这些示例，但是我们如何评估正在发生的事情呢？\n",
    "通过运行一个示例通过链，并查看它产生的输出\n",
    "在这里我们传递一个查询，然后我们得到一个答案。实际上正在发生的事情，进入语言模型的实际提示是什么？   \n",
    "它检索的文档是什么？   \n",
    "中间结果是什么？    \n",
    "仅仅查看最终答案通常不足以了解链中出现了什么问题或可能出现了什么问题"
   ]
  },
  {
   "cell_type": "code",
   "execution_count": 17,
   "id": "fcaf622e",
   "metadata": {
    "height": 47,
    "pycharm": {
     "name": "#%%\n"
    }
   },
   "outputs": [
    {
     "name": "stdout",
     "output_type": "stream",
     "text": [
      "\u001B[32;1m\u001B[1;3m[chain/start]\u001B[0m \u001B[1m[chain:RetrievalQA] Entering Chain run with input:\n",
      "\u001B[0m{\n",
      "  \"query\": \"高清电视机怎么进行护理？\"\n",
      "}\n",
      "\u001B[32;1m\u001B[1;3m[chain/start]\u001B[0m \u001B[1m[chain:RetrievalQA > chain:StuffDocumentsChain] Entering Chain run with input:\n",
      "\u001B[0m[inputs]\n",
      "\u001B[32;1m\u001B[1;3m[chain/start]\u001B[0m \u001B[1m[chain:RetrievalQA > chain:StuffDocumentsChain > chain:LLMChain] Entering Chain run with input:\n",
      "\u001B[0m{\n",
      "  \"question\": \"高清电视机怎么进行护理？\",\n",
      "  \"context\": \"product_name: 高清电视机\\ndescription: 规格:\\n尺寸：50''。\\n\\n为什么我们热爱它:\\n我们的高清电视机拥有出色的画质和强大的音效，带来沉浸式的观看体验。\\n\\n材质与护理:\\n使用干布清洁。\\n\\n构造:\\n由塑料、金属和电子元件制成。\\n\\n其他特性:\\n支持网络连接，可以在线观看视频。\\n配备遥控器。\\n在韩国制造。\\n\\n有问题？请随时联系我们的客户服务团队，他们会解答您的所有问题。\\n\\nproduct_name: 空气净化器\\ndescription: 规格:\\n尺寸：15'' x 15'' x 20''。\\n\\n为什么我们热爱它:\\n我们的空气净化器采用了先进的HEPA过滤技术，能有效去除空气中的微粒和异味，为您提供清新的室内环境。\\n\\n材质与护理:\\n清洁时使用干布擦拭。\\n\\n构造:\\n由塑料和电子元件制成。\\n\\n其他特性:\\n三档风速，附带定时功能。\\n在德国制造。\\n\\n有问题？请随时联系我们的客户服务团队，他们会解答您的所有问题。\\n\\nproduct_name: 宠物自动喂食器\\ndescription: 规格:\\n尺寸：14'' x 9'' x 15''。\\n\\n为什么我们热爱它:\\n我们的宠物自动喂食器可以定时定量投放食物，让您无论在家或外出都能确保宠物的饮食。\\n\\n材质与护理:\\n可用湿布清洁。\\n\\n构造:\\n由塑料和电子元件制成。\\n\\n其他特性:\\n配备LCD屏幕，操作简单。\\n可以设置多次投食。\\n在美国制造。\\n\\n有问题？请随时联系我们的客户服务团队，他们会解答您的所有问题。\\n\\nproduct_name: 玻璃保护膜\\ndescription: 规格:\\n适用于各种尺寸的手机屏幕。\\n\\n为什么我们热爱它:\\n我们的玻璃保护膜可以有效防止手机屏幕刮伤和破裂，而且不影响触控的灵敏度。\\n\\n材质与护理:\\n使用干布擦拭。\\n\\n构造:\\n由高强度的玻璃材料制成。\\n\\n其他特性:\\n安装简单，适合自行安装。\\n在日本制造。\\n\\n有问题？请随时联系我们的客户服务团队，他们会解答您的所有问题。\"\n",
      "}\n",
      "\u001B[32;1m\u001B[1;3m[llm/start]\u001B[0m \u001B[1m[chain:RetrievalQA > chain:StuffDocumentsChain > chain:LLMChain > llm:ChatOpenAI] Entering LLM run with input:\n",
      "\u001B[0m{\n",
      "  \"prompts\": [\n",
      "    \"System: Use the following pieces of context to answer the user's question. \\nIf you don't know the answer, just say that you don't know, don't try to make up an answer.\\n----------------\\nproduct_name: 高清电视机\\ndescription: 规格:\\n尺寸：50''。\\n\\n为什么我们热爱它:\\n我们的高清电视机拥有出色的画质和强大的音效，带来沉浸式的观看体验。\\n\\n材质与护理:\\n使用干布清洁。\\n\\n构造:\\n由塑料、金属和电子元件制成。\\n\\n其他特性:\\n支持网络连接，可以在线观看视频。\\n配备遥控器。\\n在韩国制造。\\n\\n有问题？请随时联系我们的客户服务团队，他们会解答您的所有问题。\\n\\nproduct_name: 空气净化器\\ndescription: 规格:\\n尺寸：15'' x 15'' x 20''。\\n\\n为什么我们热爱它:\\n我们的空气净化器采用了先进的HEPA过滤技术，能有效去除空气中的微粒和异味，为您提供清新的室内环境。\\n\\n材质与护理:\\n清洁时使用干布擦拭。\\n\\n构造:\\n由塑料和电子元件制成。\\n\\n其他特性:\\n三档风速，附带定时功能。\\n在德国制造。\\n\\n有问题？请随时联系我们的客户服务团队，他们会解答您的所有问题。\\n\\nproduct_name: 宠物自动喂食器\\ndescription: 规格:\\n尺寸：14'' x 9'' x 15''。\\n\\n为什么我们热爱它:\\n我们的宠物自动喂食器可以定时定量投放食物，让您无论在家或外出都能确保宠物的饮食。\\n\\n材质与护理:\\n可用湿布清洁。\\n\\n构造:\\n由塑料和电子元件制成。\\n\\n其他特性:\\n配备LCD屏幕，操作简单。\\n可以设置多次投食。\\n在美国制造。\\n\\n有问题？请随时联系我们的客户服务团队，他们会解答您的所有问题。\\n\\nproduct_name: 玻璃保护膜\\ndescription: 规格:\\n适用于各种尺寸的手机屏幕。\\n\\n为什么我们热爱它:\\n我们的玻璃保护膜可以有效防止手机屏幕刮伤和破裂，而且不影响触控的灵敏度。\\n\\n材质与护理:\\n使用干布擦拭。\\n\\n构造:\\n由高强度的玻璃材料制成。\\n\\n其他特性:\\n安装简单，适合自行安装。\\n在日本制造。\\n\\n有问题？请随时联系我们的客户服务团队，他们会解答您的所有问题。\\nHuman: 高清电视机怎么进行护理？\"\n",
      "  ]\n",
      "}\n",
      "\u001B[36;1m\u001B[1;3m[llm/end]\u001B[0m \u001B[1m[chain:RetrievalQA > chain:StuffDocumentsChain > chain:LLMChain > llm:ChatOpenAI] [1.30s] Exiting LLM run with output:\n",
      "\u001B[0m{\n",
      "  \"generations\": [\n",
      "    [\n",
      "      {\n",
      "        \"text\": \"您可以使用干布清洁高清电视机。避免使用水或化学清洁剂，因为这些可能会损坏电视机的表面。\",\n",
      "        \"generation_info\": {\n",
      "          \"finish_reason\": \"stop\",\n",
      "          \"logprobs\": null\n",
      "        },\n",
      "        \"type\": \"ChatGeneration\",\n",
      "        \"message\": {\n",
      "          \"lc\": 1,\n",
      "          \"type\": \"constructor\",\n",
      "          \"id\": [\n",
      "            \"langchain\",\n",
      "            \"schema\",\n",
      "            \"messages\",\n",
      "            \"AIMessage\"\n",
      "          ],\n",
      "          \"kwargs\": {\n",
      "            \"content\": \"您可以使用干布清洁高清电视机。避免使用水或化学清洁剂，因为这些可能会损坏电视机的表面。\",\n",
      "            \"response_metadata\": {\n",
      "              \"token_usage\": {\n",
      "                \"completion_tokens\": 47,\n",
      "                \"prompt_tokens\": 817,\n",
      "                \"total_tokens\": 864\n",
      "              },\n",
      "              \"model_name\": \"gpt-3.5-turbo-0301\",\n",
      "              \"system_fingerprint\": null,\n",
      "              \"finish_reason\": \"stop\",\n",
      "              \"logprobs\": null\n",
      "            },\n",
      "            \"type\": \"ai\",\n",
      "            \"id\": \"run-aab2eca4-0f99-46a1-b2ac-905e133544f9-0\",\n",
      "            \"usage_metadata\": {\n",
      "              \"input_tokens\": 817,\n",
      "              \"output_tokens\": 47,\n",
      "              \"total_tokens\": 864\n",
      "            },\n",
      "            \"tool_calls\": [],\n",
      "            \"invalid_tool_calls\": []\n",
      "          }\n",
      "        }\n",
      "      }\n",
      "    ]\n",
      "  ],\n",
      "  \"llm_output\": {\n",
      "    \"token_usage\": {\n",
      "      \"completion_tokens\": 47,\n",
      "      \"prompt_tokens\": 817,\n",
      "      \"total_tokens\": 864\n",
      "    },\n",
      "    \"model_name\": \"gpt-3.5-turbo-0301\",\n",
      "    \"system_fingerprint\": null\n",
      "  },\n",
      "  \"run\": null\n",
      "}\n",
      "\u001B[36;1m\u001B[1;3m[chain/end]\u001B[0m \u001B[1m[chain:RetrievalQA > chain:StuffDocumentsChain > chain:LLMChain] [1.31s] Exiting Chain run with output:\n",
      "\u001B[0m{\n",
      "  \"text\": \"您可以使用干布清洁高清电视机。避免使用水或化学清洁剂，因为这些可能会损坏电视机的表面。\"\n",
      "}\n",
      "\u001B[36;1m\u001B[1;3m[chain/end]\u001B[0m \u001B[1m[chain:RetrievalQA > chain:StuffDocumentsChain] [1.31s] Exiting Chain run with output:\n",
      "\u001B[0m{\n",
      "  \"output_text\": \"您可以使用干布清洁高清电视机。避免使用水或化学清洁剂，因为这些可能会损坏电视机的表面。\"\n",
      "}\n",
      "\u001B[36;1m\u001B[1;3m[chain/end]\u001B[0m \u001B[1m[chain:RetrievalQA] [1.99s] Exiting Chain run with output:\n",
      "\u001B[0m{\n",
      "  \"result\": \"您可以使用干布清洁高清电视机。避免使用水或化学清洁剂，因为这些可能会损坏电视机的表面。\"\n",
      "}\n"
     ]
    },
    {
     "data": {
      "text/plain": "'您可以使用干布清洁高清电视机。避免使用水或化学清洁剂，因为这些可能会损坏电视机的表面。'"
     },
     "execution_count": 17,
     "metadata": {},
     "output_type": "execute_result"
    }
   ],
   "source": [
    "''' \n",
    "LingChainDebug工具可以了解运行一个实例通过链中间所经历的步骤\n",
    "'''\n",
    "import langchain\n",
    "langchain.debug = True\n",
    "qa.run(examples[0][\"query\"])#重新运行与上面相同的示例，可以看到它开始打印出更多的信息"
   ]
  },
  {
   "cell_type": "markdown",
   "id": "8dee0f24",
   "metadata": {
    "pycharm": {
     "name": "#%% md\n"
    }
   },
   "source": [
    "我们可以看到它首先深入到检索QA链中，然后它进入了一些文档链。如上所述，我们正在使用stuff方法，现在我们正在传递这个上下文，可以看到，这个上下文是由我们检索到的不同文档创建的。因此，在进行问答时，当返回错误结果时，通常不是语言模型本身出错了，实际上是检索步骤出错了，仔细查看问题的确切内容和上下文可以帮助调试出错的原因。    \n",
    "然后，我们可以再向下一级，看看进入语言模型的确切内容，以及 OpenAI 自身，在这里，我们可以看到传递的完整提示，我们有一个系统消息，有所使用的提示的描述，这是问题回答链使用的提示，我们可以看到提示打印出来，使用以下上下文片段回答用户的问题。\n",
    "如果您不知道答案，只需说您不知道即可，不要试图编造答案。然后我们看到一堆之前插入的上下文，我们还可以看到有关实际返回类型的更多信息。我们不仅仅返回一个答案，还有token的使用情况，可以了解到token数的使用情况\n",
    "\n",
    "\n",
    "由于这是一个相对简单的链，我们现在可以看到最终的响应，舒适的毛衣套装，条纹款，有侧袋，正在起泡，通过链返回给用户，我们刚刚讲解了如何查看和调试单个输入到该链的情况。\n",
    "\n",
    "\n"
   ]
  },
  {
   "cell_type": "markdown",
   "id": "d5bdbdce",
   "metadata": {
    "pycharm": {
     "name": "#%% md\n"
    }
   },
   "source": [
    "## 四、 通过LLM进行评估实例"
   ]
  },
  {
   "cell_type": "code",
   "execution_count": 42,
   "id": "a4dca05a",
   "metadata": {
    "height": 30,
    "pycharm": {
     "name": "#%%\n"
    }
   },
   "outputs": [
    {
     "name": "stdout",
     "output_type": "stream",
     "text": [
      "\n",
      "\n",
      "\u001B[1m> Entering new RetrievalQA chain...\u001B[0m\n",
      "\n",
      "\u001B[1m> Entering new RetrievalQA chain...\u001B[0m\n",
      "\n",
      "\n",
      "\u001B[1m> Entering new RetrievalQA chain...\u001B[0m\n",
      "\n",
      "\n",
      "\n",
      "\u001B[1m> Entering new RetrievalQA chain...\u001B[0m\n",
      "\n",
      "\n",
      "\u001B[1m> Entering new RetrievalQA chain...\u001B[0m\n",
      "\n",
      "\n",
      "\u001B[1m> Entering new RetrievalQA chain...\u001B[0m\n",
      "\n",
      "\n",
      "\u001B[1m> Entering new RetrievalQA chain...\u001B[0m\n",
      "\n",
      "\u001B[1m> Finished chain.\u001B[0m\n",
      "\n",
      "\u001B[1m> Finished chain.\u001B[0m\n",
      "\n",
      "\u001B[1m> Finished chain.\u001B[0m\n",
      "\n",
      "\u001B[1m> Finished chain.\u001B[0m\n",
      "\n",
      "\u001B[1m> Finished chain.\u001B[0m\n",
      "\n",
      "\u001B[1m> Finished chain.\u001B[0m\n",
      "\n",
      "\u001B[1m> Finished chain.\u001B[0m\n"
     ]
    },
    {
     "data": {
      "text/plain": "[{'query': '高清电视机怎么进行护理？',\n  'answer': '使用干布清洁。',\n  'result': '您可以使用干布清洁高清电视机。避免使用含有酒精、丙酮、氨水等化学物质的清洁剂，以免对电视机造成损害。'},\n {'query': '旅行背包有内外袋吗？',\n  'answer': '有。',\n  'result': '是的，我们的旅行背包拥有多个实用的内外袋，可以轻松装下您的必需品。'},\n {'query': '这款全自动咖啡机的尺寸有哪些选择？ ',\n  'answer': \"这款全自动咖啡机有大型和中型两种尺寸，分别为13.8'' x 17.3''和11.5'' x 15.2''。\",\n  'result': \"这款全自动咖啡机有两种尺寸可选：大型尺寸为13.8'' x 17.3''，中型尺寸为11.5'' x 15.2''。\"},\n {'query': '这款电动牙刷的材质是什么制成的？',\n  'answer': '这款电动牙刷由食品级塑料和尼龙刷毛制成。',\n  'result': '这款电动牙刷的构造是由食品级塑料和尼龙刷毛制成的。'},\n {'query': '这种泡腾片的主要成分是什么？',\n  'answer': '主要成分为维生素C和柠檬酸钠。',\n  'result': '这种泡腾片的主要成分是维生素C和柠檬酸钠。'},\n {'query': '这款无线蓝牙耳机有哪些特点？',\n  'answer': '这款无线蓝牙耳机配备了降噪技术和长达8小时的电池续航力，内置麦克风，支持接听电话，具有快速充电功能。它由耐用的塑料和金属构成，配备有软质耳塞，只需用湿布清洁。此外，这款耳机在韩国制造。',\n  'result': '这款无线蓝牙耳机有以下特点：\\n- 配备了降噪技术，可以减少外界噪音的干扰，提供更好的音乐体验。\\n- 电池续航力长达8小时，可以让您在任何地方都能享受无障碍的音乐体验。\\n- 由耐用的塑料和金属构成，配备有软质耳塞，舒适度高。\\n- 支持快速充电功能和内置麦克风，可以接听电话。\\n- 制造商在韩国。'},\n {'query': '这款瑜伽垫的尺寸是多少？',\n  'answer': \"这款瑜伽垫的尺寸是24'' x 68''。\",\n  'result': \"有两款瑜伽垫，第一款的尺寸是24'' x 68''，第二款的尺寸是72'' x 24''。请问您是想了解哪一款的尺寸呢？\"}]"
     },
     "execution_count": 42,
     "metadata": {},
     "output_type": "execute_result"
    }
   ],
   "source": [
    "langchain.debug = False\n",
    "predictions = qa.batch(examples) #为所有不同的示例创建预测\n",
    "predictions"
   ]
  },
  {
   "cell_type": "code",
   "execution_count": 43,
   "id": "c71d3d2f",
   "metadata": {
    "pycharm": {
     "name": "#%%\n"
    }
   },
   "outputs": [],
   "source": [
    "''' \n",
    "对预测的结果进行评估，导入QA问题回答，评估链，通过语言模型创建此链\n",
    "'''\n",
    "from langchain.evaluation.qa import QAEvalChain #导入QA问题回答，评估链\n",
    "\n",
    "\n",
    "eval_chain = QAEvalChain.from_llm(llm)  #通过调用chatGPT进行评估\n",
    "graded_outputs = eval_chain.evaluate(examples, predictions)  #在此链上调用evaluate，进行评估"
   ]
  },
  {
   "cell_type": "markdown",
   "id": "72dc8595",
   "metadata": {
    "pycharm": {
     "name": "#%% md\n"
    }
   },
   "source": [
    "#### 评估思路\n",
    "当它面前有整个文档时，它可以生成一个真实的答案，我们将打印出预测的答，当它进行QA链时，使用embedding和向量数据库进行检索时，将其传递到语言模型中，然后尝试猜测预测的答案，我们还将打印出成绩，这也是语言模型生成的。当它要求评估链评估正在发生的事情时，以及它是否正确或不正确。因此，当我们循环遍历所有这些示例并将它们打印出来时，可以详细了解每个示例"
   ]
  },
  {
   "cell_type": "code",
   "execution_count": 46,
   "id": "bf21e40a",
   "metadata": {
    "pycharm": {
     "name": "#%%\n"
    }
   },
   "outputs": [
    {
     "name": "stdout",
     "output_type": "stream",
     "text": [
      "Example 0:\n",
      "Question: 高清电视机怎么进行护理？\n",
      "Real Answer: 使用干布清洁。\n",
      "Predicted Answer: 您可以使用干布清洁高清电视机。避免使用含有酒精、丙酮、氨水等化学物质的清洁剂，以免对电视机造成损害。\n",
      "Predicted Grade: CORRECT\n",
      "\n",
      "Example 1:\n",
      "Question: 旅行背包有内外袋吗？\n",
      "Real Answer: 有。\n",
      "Predicted Answer: 是的，我们的旅行背包拥有多个实用的内外袋，可以轻松装下您的必需品。\n",
      "Predicted Grade: CORRECT\n",
      "\n",
      "Example 2:\n",
      "Question: 这款全自动咖啡机的尺寸有哪些选择？ \n",
      "Real Answer: 这款全自动咖啡机有大型和中型两种尺寸，分别为13.8'' x 17.3''和11.5'' x 15.2''。\n",
      "Predicted Answer: 这款全自动咖啡机有两种尺寸可选：大型尺寸为13.8'' x 17.3''，中型尺寸为11.5'' x 15.2''。\n",
      "Predicted Grade: CORRECT\n",
      "\n",
      "Example 3:\n",
      "Question: 这款电动牙刷的材质是什么制成的？\n",
      "Real Answer: 这款电动牙刷由食品级塑料和尼龙刷毛制成。\n",
      "Predicted Answer: 这款电动牙刷的构造是由食品级塑料和尼龙刷毛制成的。\n",
      "Predicted Grade: CORRECT\n",
      "\n",
      "Example 4:\n",
      "Question: 这种泡腾片的主要成分是什么？\n",
      "Real Answer: 主要成分为维生素C和柠檬酸钠。\n",
      "Predicted Answer: 这种泡腾片的主要成分是维生素C和柠檬酸钠。\n",
      "Predicted Grade: CORRECT\n",
      "\n",
      "Example 5:\n",
      "Question: 这款无线蓝牙耳机有哪些特点？\n",
      "Real Answer: 这款无线蓝牙耳机配备了降噪技术和长达8小时的电池续航力，内置麦克风，支持接听电话，具有快速充电功能。它由耐用的塑料和金属构成，配备有软质耳塞，只需用湿布清洁。此外，这款耳机在韩国制造。\n",
      "Predicted Answer: 这款无线蓝牙耳机有以下特点：\n",
      "- 配备了降噪技术，可以减少外界噪音的干扰，提供更好的音乐体验。\n",
      "- 电池续航力长达8小时，可以让您在任何地方都能享受无障碍的音乐体验。\n",
      "- 由耐用的塑料和金属构成，配备有软质耳塞，舒适度高。\n",
      "- 支持快速充电功能和内置麦克风，可以接听电话。\n",
      "- 制造商在韩国。\n",
      "Predicted Grade: CORRECT\n",
      "\n",
      "Example 6:\n",
      "Question: 这款瑜伽垫的尺寸是多少？\n",
      "Real Answer: 这款瑜伽垫的尺寸是24'' x 68''。\n",
      "Predicted Answer: 有两款瑜伽垫，第一款的尺寸是24'' x 68''，第二款的尺寸是72'' x 24''。请问您是想了解哪一款的尺寸呢？\n",
      "Predicted Grade: CORRECT\n",
      "\n"
     ]
    }
   ],
   "source": [
    "#我们将传入示例和预测，得到一堆分级输出，循环遍历它们打印答案\n",
    "for i, eg in enumerate(examples):\n",
    "    print(f\"Example {i}:\")\n",
    "    print(\"Question: \" + predictions[i]['query'])\n",
    "    print(\"Real Answer: \" + predictions[i]['answer'])\n",
    "    print(\"Predicted Answer: \" + predictions[i]['result'])\n",
    "    print(\"Predicted Grade: \" + graded_outputs[i]['results'])\n",
    "    print()"
   ]
  },
  {
   "cell_type": "markdown",
   "id": "ece7c7b4",
   "metadata": {
    "pycharm": {
     "name": "#%% md\n"
    }
   },
   "source": [
    "#### 结果分析\n",
    "对于每个示例，它看起来都是正确的，让我们看看第一个例子。\n",
    "这里的问题是，旅行背包有内外袋吗？真正的答案，我们创建了这个，是肯定的。模型预测的答案是是的，旅行背包有多个实用的内外袋，可以轻松装下您的必需品。因此，我们可以理解这是一个正确的答案。它将其评为正确。    \n",
    "#### 使用模型评估的优势\n",
    "\n",
    "你有这些答案，它们是任意的字符串。没有单一的真实字符串是最好的可能答案，有许多不同的变体，只要它们具有相同的语义，它们应该被评为相似。如果使用正则进行精准匹配就会丢失语义信息，到目前为止存在的许多评估指标都不够好。目前最有趣和最受欢迎的之一就是使用语言模型进行评估。"
   ]
  }
 ],
 "metadata": {
  "kernelspec": {
   "display_name": "Python 3 (ipykernel)",
   "language": "python",
   "name": "python3"
  },
  "language_info": {
   "codemirror_mode": {
    "name": "ipython",
    "version": 3
   },
   "file_extension": ".py",
   "mimetype": "text/x-python",
   "name": "python",
   "nbconvert_exporter": "python",
   "pygments_lexer": "ipython3",
   "version": "3.9.12"
  },
  "toc": {
   "base_numbering": 1,
   "nav_menu": {},
   "number_sections": false,
   "sideBar": true,
   "skip_h1_title": false,
   "title_cell": "Table of Contents",
   "title_sidebar": "Contents",
   "toc_cell": false,
   "toc_position": {
    "height": "calc(100% - 180px)",
    "left": "10px",
    "top": "150px",
    "width": "261.818px"
   },
   "toc_section_display": true,
   "toc_window_display": true
  }
 },
 "nbformat": 4,
 "nbformat_minor": 5
}