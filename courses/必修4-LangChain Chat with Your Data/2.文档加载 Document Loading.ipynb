{
 "cells": [
  {
   "cell_type": "markdown",
   "id": "cc2eb3ad-8c1c-406a-b7aa-a3f61b754ac5",
   "metadata": {
    "pycharm": {
     "name": "#%% md\n"
    }
   },
   "source": [
    "# 第二章 文档加载\n",
    "\n",
    " - [一、PDF文档](#一、PDF文档)\n",
    " - [二、YouTube音频](#二、YouTube音频)\n",
    " - [三、网页文档](#三、网页文档)\n",
    " - [四、Notion文档](#四、Notion文档)"
   ]
  },
  {
   "cell_type": "markdown",
   "id": "63558db2-5279-4c1b-9bec-355ab04731e6",
   "metadata": {
    "pycharm": {
     "name": "#%% md\n"
    }
   },
   "source": [
    "## 一、PDF文档\n",
    "\n",
    "首先，我们来加载一个[PDF文档](https://see.stanford.edu/materials/aimlcs229/transcripts/MachineLearning-Lecture01.pdf)。该文档为吴恩达教授的2009年机器学习课程的字幕文件。因为这些字幕为自动生成，所以词句直接可能不太连贯和通畅。"
   ]
  },
  {
   "cell_type": "code",
   "execution_count": 1,
   "id": "52d9891f-a8cc-47c4-8c09-81794647a720",
   "metadata": {
    "pycharm": {
     "name": "#%%\n"
    }
   },
   "outputs": [
    {
     "name": "stdout",
     "output_type": "stream",
     "text": [
      "22\n",
      "{'source': 'docs/cs229_lectures/MachineLearning-Lecture01.pdf', 'page': 0}\n"
     ]
    },
    {
     "data": {
      "text/plain": "'MachineLearning-Lecture01  \\nInstructor (Andrew Ng):  Okay. Good morning. Welcome to CS229, the machi'"
     },
     "execution_count": 1,
     "metadata": {},
     "output_type": "execute_result"
    }
   ],
   "source": [
    "from typing import List\n",
    "from langchain.document_loaders import PyPDFLoader\n",
    "from langchain_core.documents import Document\n",
    "\n",
    "\n",
    "# 创建一个 PyPDFLoader Class 实例，输入为待加载的pdf文档路径\n",
    "loader = PyPDFLoader(\"docs/cs229_lectures/MachineLearning-Lecture01.pdf\")\n",
    "\n",
    "# 加载pdf文件\n",
    "# 文档变量类型包含两个属性：page_content 包含该文档的内容、meta_data 为文档相关的描述性数据。\n",
    "pages: List[Document] = loader.load()\n",
    "print(len(pages))\n",
    "print(pages[0].metadata)\n",
    "pages[0].page_content[:100]"
   ]
  },
  {
   "cell_type": "markdown",
   "id": "1e9cead7-a967-4a8f-8d3d-0f94f2ff129e",
   "metadata": {
    "pycharm": {
     "name": "#%% md\n"
    }
   },
   "source": [
    "## 二、YouTube音频\n",
    "\n",
    "在第一部分的内容，我们学习了如何加载PDF文档。在这部分的内容，我们学习对于给定的 YouTube 视频链接\n",
    "- 如何使用LangChain加载器将视频的音频下载到本地\n",
    "- 然后使用OpenAIWhisperPaser解析器将音频转化为文本"
   ]
  },
  {
   "cell_type": "code",
   "execution_count": 5,
   "id": "f25593f9-a6d2-4137-94cb-881141ca99fd",
   "metadata": {
    "pycharm": {
     "name": "#%%\n"
    }
   },
   "outputs": [
    {
     "name": "stdout",
     "output_type": "stream",
     "text": [
      "[youtube] Extracting URL: https://www.youtube.com/watch?v=jGwO_UgTS7I\n",
      "[youtube] jGwO_UgTS7I: Downloading webpage\n"
     ]
    },
    {
     "name": "stderr",
     "output_type": "stream",
     "text": [
      "WARNING: [youtube] unable to extract initial player response; please report this issue on  https://github.com/yt-dlp/yt-dlp/issues?q= , filling out the appropriate issue template. Confirm you are on the latest version using  yt-dlp -U\n"
     ]
    },
    {
     "name": "stdout",
     "output_type": "stream",
     "text": [
      "[youtube] jGwO_UgTS7I: Downloading ios player API JSON\n"
     ]
    },
    {
     "name": "stderr",
     "output_type": "stream",
     "text": [
      "WARNING: [youtube] jGwO_UgTS7I: Failed to parse JSON (caused by JSONDecodeError(\"Expecting value in '': line 1 column 1 (char 0)\")); please report this issue on  https://github.com/yt-dlp/yt-dlp/issues?q= , filling out the appropriate issue template. Confirm you are on the latest version using  yt-dlp -U\n"
     ]
    },
    {
     "name": "stdout",
     "output_type": "stream",
     "text": [
      "[youtube] jGwO_UgTS7I: Downloading iframe API JS\n"
     ]
    },
    {
     "name": "stderr",
     "output_type": "stream",
     "text": [
      "WARNING: [youtube] unable to extract player version; please report this issue on  https://github.com/yt-dlp/yt-dlp/issues?q= , filling out the appropriate issue template. Confirm you are on the latest version using  yt-dlp -U\n"
     ]
    },
    {
     "name": "stdout",
     "output_type": "stream",
     "text": [
      "[youtube] jGwO_UgTS7I: Downloading web player API JSON\n"
     ]
    },
    {
     "name": "stderr",
     "output_type": "stream",
     "text": [
      "WARNING: [youtube] jGwO_UgTS7I: Failed to parse JSON (caused by JSONDecodeError(\"Expecting value in '': line 1 column 1 (char 0)\")); please report this issue on  https://github.com/yt-dlp/yt-dlp/issues?q= , filling out the appropriate issue template. Confirm you are on the latest version using  yt-dlp -U\n",
      "ERROR: [youtube] jGwO_UgTS7I: Failed to extract any player response; please report this issue on  https://github.com/yt-dlp/yt-dlp/issues?q= , filling out the appropriate issue template. Confirm you are on the latest version using  yt-dlp -U\n"
     ]
    },
    {
     "ename": "DownloadError",
     "evalue": "ERROR: [youtube] jGwO_UgTS7I: Failed to extract any player response; please report this issue on  https://github.com/yt-dlp/yt-dlp/issues?q= , filling out the appropriate issue template. Confirm you are on the latest version using  yt-dlp -U",
     "output_type": "error",
     "traceback": [
      "\u001B[0;31m---------------------------------------------------------------------------\u001B[0m",
      "\u001B[0;31mExtractorError\u001B[0m                            Traceback (most recent call last)",
      "File \u001B[0;32m~/ENVS/llm-learning/lib/python3.10/site-packages/yt_dlp/YoutubeDL.py:1606\u001B[0m, in \u001B[0;36mYoutubeDL._handle_extraction_exceptions.<locals>.wrapper\u001B[0;34m(self, *args, **kwargs)\u001B[0m\n\u001B[1;32m   1605\u001B[0m \u001B[38;5;28;01mtry\u001B[39;00m:\n\u001B[0;32m-> 1606\u001B[0m     \u001B[38;5;28;01mreturn\u001B[39;00m \u001B[43mfunc\u001B[49m\u001B[43m(\u001B[49m\u001B[38;5;28;43mself\u001B[39;49m\u001B[43m,\u001B[49m\u001B[43m \u001B[49m\u001B[38;5;241;43m*\u001B[39;49m\u001B[43margs\u001B[49m\u001B[43m,\u001B[49m\u001B[43m \u001B[49m\u001B[38;5;241;43m*\u001B[39;49m\u001B[38;5;241;43m*\u001B[39;49m\u001B[43mkwargs\u001B[49m\u001B[43m)\u001B[49m\n\u001B[1;32m   1607\u001B[0m \u001B[38;5;28;01mexcept\u001B[39;00m (DownloadCancelled, LazyList\u001B[38;5;241m.\u001B[39mIndexError, PagedList\u001B[38;5;241m.\u001B[39mIndexError):\n",
      "File \u001B[0;32m~/ENVS/llm-learning/lib/python3.10/site-packages/yt_dlp/YoutubeDL.py:1741\u001B[0m, in \u001B[0;36mYoutubeDL.__extract_info\u001B[0;34m(self, url, ie, download, extra_info, process)\u001B[0m\n\u001B[1;32m   1740\u001B[0m \u001B[38;5;28;01mtry\u001B[39;00m:\n\u001B[0;32m-> 1741\u001B[0m     ie_result \u001B[38;5;241m=\u001B[39m \u001B[43mie\u001B[49m\u001B[38;5;241;43m.\u001B[39;49m\u001B[43mextract\u001B[49m\u001B[43m(\u001B[49m\u001B[43murl\u001B[49m\u001B[43m)\u001B[49m\n\u001B[1;32m   1742\u001B[0m \u001B[38;5;28;01mexcept\u001B[39;00m UserNotLive \u001B[38;5;28;01mas\u001B[39;00m e:\n",
      "File \u001B[0;32m~/ENVS/llm-learning/lib/python3.10/site-packages/yt_dlp/extractor/common.py:734\u001B[0m, in \u001B[0;36mInfoExtractor.extract\u001B[0;34m(self, url)\u001B[0m\n\u001B[1;32m    732\u001B[0m \u001B[38;5;28mself\u001B[39m\u001B[38;5;241m.\u001B[39mto_screen(\u001B[38;5;124m'\u001B[39m\u001B[38;5;124mExtracting URL: \u001B[39m\u001B[38;5;132;01m%s\u001B[39;00m\u001B[38;5;124m'\u001B[39m \u001B[38;5;241m%\u001B[39m (\n\u001B[1;32m    733\u001B[0m     url \u001B[38;5;28;01mif\u001B[39;00m \u001B[38;5;28mself\u001B[39m\u001B[38;5;241m.\u001B[39mget_param(\u001B[38;5;124m'\u001B[39m\u001B[38;5;124mverbose\u001B[39m\u001B[38;5;124m'\u001B[39m) \u001B[38;5;28;01melse\u001B[39;00m truncate_string(url, \u001B[38;5;241m100\u001B[39m, \u001B[38;5;241m20\u001B[39m)))\n\u001B[0;32m--> 734\u001B[0m ie_result \u001B[38;5;241m=\u001B[39m \u001B[38;5;28;43mself\u001B[39;49m\u001B[38;5;241;43m.\u001B[39;49m\u001B[43m_real_extract\u001B[49m\u001B[43m(\u001B[49m\u001B[43murl\u001B[49m\u001B[43m)\u001B[49m\n\u001B[1;32m    735\u001B[0m \u001B[38;5;28;01mif\u001B[39;00m ie_result \u001B[38;5;129;01mis\u001B[39;00m \u001B[38;5;28;01mNone\u001B[39;00m:\n",
      "File \u001B[0;32m~/ENVS/llm-learning/lib/python3.10/site-packages/yt_dlp/extractor/youtube.py:4145\u001B[0m, in \u001B[0;36mYoutubeIE._real_extract\u001B[0;34m(self, url)\u001B[0m\n\u001B[1;32m   4143\u001B[0m webpage_url \u001B[38;5;241m=\u001B[39m base_url \u001B[38;5;241m+\u001B[39m \u001B[38;5;124m'\u001B[39m\u001B[38;5;124mwatch?v=\u001B[39m\u001B[38;5;124m'\u001B[39m \u001B[38;5;241m+\u001B[39m video_id\n\u001B[0;32m-> 4145\u001B[0m webpage, master_ytcfg, player_responses, player_url \u001B[38;5;241m=\u001B[39m \u001B[38;5;28;43mself\u001B[39;49m\u001B[38;5;241;43m.\u001B[39;49m\u001B[43m_download_player_responses\u001B[49m\u001B[43m(\u001B[49m\u001B[43murl\u001B[49m\u001B[43m,\u001B[49m\u001B[43m \u001B[49m\u001B[43msmuggled_data\u001B[49m\u001B[43m,\u001B[49m\u001B[43m \u001B[49m\u001B[43mvideo_id\u001B[49m\u001B[43m,\u001B[49m\u001B[43m \u001B[49m\u001B[43mwebpage_url\u001B[49m\u001B[43m)\u001B[49m\n\u001B[1;32m   4147\u001B[0m playability_statuses \u001B[38;5;241m=\u001B[39m traverse_obj(\n\u001B[1;32m   4148\u001B[0m     player_responses, (\u001B[38;5;241m.\u001B[39m\u001B[38;5;241m.\u001B[39m\u001B[38;5;241m.\u001B[39m, \u001B[38;5;124m'\u001B[39m\u001B[38;5;124mplayabilityStatus\u001B[39m\u001B[38;5;124m'\u001B[39m), expected_type\u001B[38;5;241m=\u001B[39m\u001B[38;5;28mdict\u001B[39m)\n",
      "File \u001B[0;32m~/ENVS/llm-learning/lib/python3.10/site-packages/yt_dlp/extractor/youtube.py:4109\u001B[0m, in \u001B[0;36mYoutubeIE._download_player_responses\u001B[0;34m(self, url, smuggled_data, video_id, webpage_url)\u001B[0m\n\u001B[1;32m   4107\u001B[0m master_ytcfg \u001B[38;5;241m=\u001B[39m \u001B[38;5;28mself\u001B[39m\u001B[38;5;241m.\u001B[39mextract_ytcfg(video_id, webpage) \u001B[38;5;129;01mor\u001B[39;00m \u001B[38;5;28mself\u001B[39m\u001B[38;5;241m.\u001B[39m_get_default_ytcfg()\n\u001B[0;32m-> 4109\u001B[0m player_responses, player_url \u001B[38;5;241m=\u001B[39m \u001B[38;5;28;43mself\u001B[39;49m\u001B[38;5;241;43m.\u001B[39;49m\u001B[43m_extract_player_responses\u001B[49m\u001B[43m(\u001B[49m\n\u001B[1;32m   4110\u001B[0m \u001B[43m    \u001B[49m\u001B[38;5;28;43mself\u001B[39;49m\u001B[38;5;241;43m.\u001B[39;49m\u001B[43m_get_requested_clients\u001B[49m\u001B[43m(\u001B[49m\u001B[43murl\u001B[49m\u001B[43m,\u001B[49m\u001B[43m \u001B[49m\u001B[43msmuggled_data\u001B[49m\u001B[43m)\u001B[49m\u001B[43m,\u001B[49m\n\u001B[1;32m   4111\u001B[0m \u001B[43m    \u001B[49m\u001B[43mvideo_id\u001B[49m\u001B[43m,\u001B[49m\u001B[43m \u001B[49m\u001B[43mwebpage\u001B[49m\u001B[43m,\u001B[49m\u001B[43m \u001B[49m\u001B[43mmaster_ytcfg\u001B[49m\u001B[43m,\u001B[49m\u001B[43m \u001B[49m\u001B[43msmuggled_data\u001B[49m\u001B[43m)\u001B[49m\n\u001B[1;32m   4113\u001B[0m \u001B[38;5;28;01mreturn\u001B[39;00m webpage, master_ytcfg, player_responses, player_url\n",
      "File \u001B[0;32m~/ENVS/llm-learning/lib/python3.10/site-packages/yt_dlp/extractor/youtube.py:3791\u001B[0m, in \u001B[0;36mYoutubeIE._extract_player_responses\u001B[0;34m(self, clients, video_id, webpage, master_ytcfg, smuggled_data)\u001B[0m\n\u001B[1;32m   3790\u001B[0m \u001B[38;5;28;01melif\u001B[39;00m \u001B[38;5;129;01mnot\u001B[39;00m prs:\n\u001B[0;32m-> 3791\u001B[0m     \u001B[38;5;28;01mraise\u001B[39;00m ExtractorError(\u001B[38;5;124m'\u001B[39m\u001B[38;5;124mFailed to extract any player response\u001B[39m\u001B[38;5;124m'\u001B[39m)\n\u001B[1;32m   3792\u001B[0m \u001B[38;5;28;01mreturn\u001B[39;00m prs, player_url\n",
      "\u001B[0;31mExtractorError\u001B[0m: [youtube] jGwO_UgTS7I: Failed to extract any player response; please report this issue on  https://github.com/yt-dlp/yt-dlp/issues?q= , filling out the appropriate issue template. Confirm you are on the latest version using  yt-dlp -U",
      "\nDuring handling of the above exception, another exception occurred:\n",
      "\u001B[0;31mDownloadError\u001B[0m                             Traceback (most recent call last)",
      "Cell \u001B[0;32mIn[5], line 19\u001B[0m\n\u001B[1;32m     10\u001B[0m loader \u001B[38;5;241m=\u001B[39m GenericLoader(\n\u001B[1;32m     11\u001B[0m     \u001B[38;5;66;03m#将链接url中的Youtube视频的音频下载下来,存在本地路径save_dir\u001B[39;00m\n\u001B[1;32m     12\u001B[0m     YoutubeAudioLoader([url], save_dir),\n\u001B[0;32m   (...)\u001B[0m\n\u001B[1;32m     15\u001B[0m     OpenAIWhisperParser()\n\u001B[1;32m     16\u001B[0m )\n\u001B[1;32m     18\u001B[0m \u001B[38;5;66;03m# 调用 GenericLoader Class 的函数 load对视频的音频文件进行加载\u001B[39;00m\n\u001B[0;32m---> 19\u001B[0m docs: List[Document] \u001B[38;5;241m=\u001B[39m \u001B[43mloader\u001B[49m\u001B[38;5;241;43m.\u001B[39;49m\u001B[43mload\u001B[49m\u001B[43m(\u001B[49m\u001B[43m)\u001B[49m\n\u001B[1;32m     20\u001B[0m \u001B[38;5;28mprint\u001B[39m(\u001B[38;5;28mlen\u001B[39m(pages))\n\u001B[1;32m     21\u001B[0m \u001B[38;5;28mprint\u001B[39m(pages[\u001B[38;5;241m0\u001B[39m]\u001B[38;5;241m.\u001B[39mmetadata)\n",
      "File \u001B[0;32m~/ENVS/llm-learning/lib/python3.10/site-packages/langchain_core/document_loaders/base.py:29\u001B[0m, in \u001B[0;36mBaseLoader.load\u001B[0;34m(self)\u001B[0m\n\u001B[1;32m     27\u001B[0m \u001B[38;5;28;01mdef\u001B[39;00m \u001B[38;5;21mload\u001B[39m(\u001B[38;5;28mself\u001B[39m) \u001B[38;5;241m-\u001B[39m\u001B[38;5;241m>\u001B[39m List[Document]:\n\u001B[1;32m     28\u001B[0m \u001B[38;5;250m    \u001B[39m\u001B[38;5;124;03m\"\"\"Load data into Document objects.\"\"\"\u001B[39;00m\n\u001B[0;32m---> 29\u001B[0m     \u001B[38;5;28;01mreturn\u001B[39;00m \u001B[38;5;28;43mlist\u001B[39;49m\u001B[43m(\u001B[49m\u001B[38;5;28;43mself\u001B[39;49m\u001B[38;5;241;43m.\u001B[39;49m\u001B[43mlazy_load\u001B[49m\u001B[43m(\u001B[49m\u001B[43m)\u001B[49m\u001B[43m)\u001B[49m\n",
      "File \u001B[0;32m~/ENVS/llm-learning/lib/python3.10/site-packages/langchain_community/document_loaders/generic.py:115\u001B[0m, in \u001B[0;36mGenericLoader.lazy_load\u001B[0;34m(self)\u001B[0m\n\u001B[1;32m    111\u001B[0m \u001B[38;5;28;01mdef\u001B[39;00m \u001B[38;5;21mlazy_load\u001B[39m(\n\u001B[1;32m    112\u001B[0m     \u001B[38;5;28mself\u001B[39m,\n\u001B[1;32m    113\u001B[0m ) \u001B[38;5;241m-\u001B[39m\u001B[38;5;241m>\u001B[39m Iterator[Document]:\n\u001B[1;32m    114\u001B[0m \u001B[38;5;250m    \u001B[39m\u001B[38;5;124;03m\"\"\"Load documents lazily. Use this when working at a large scale.\"\"\"\u001B[39;00m\n\u001B[0;32m--> 115\u001B[0m     \u001B[38;5;28;01mfor\u001B[39;00m blob \u001B[38;5;129;01min\u001B[39;00m \u001B[38;5;28mself\u001B[39m\u001B[38;5;241m.\u001B[39mblob_loader\u001B[38;5;241m.\u001B[39myield_blobs():  \u001B[38;5;66;03m# type: ignore[attr-defined]\u001B[39;00m\n\u001B[1;32m    116\u001B[0m         \u001B[38;5;28;01myield from\u001B[39;00m \u001B[38;5;28mself\u001B[39m\u001B[38;5;241m.\u001B[39mblob_parser\u001B[38;5;241m.\u001B[39mlazy_parse(blob)\n",
      "File \u001B[0;32m~/ENVS/llm-learning/lib/python3.10/site-packages/langchain_community/document_loaders/blob_loaders/youtube_audio.py:45\u001B[0m, in \u001B[0;36mYoutubeAudioLoader.yield_blobs\u001B[0;34m(self)\u001B[0m\n\u001B[1;32m     42\u001B[0m \u001B[38;5;28;01mfor\u001B[39;00m url \u001B[38;5;129;01min\u001B[39;00m \u001B[38;5;28mself\u001B[39m\u001B[38;5;241m.\u001B[39murls:\n\u001B[1;32m     43\u001B[0m     \u001B[38;5;66;03m# Download file\u001B[39;00m\n\u001B[1;32m     44\u001B[0m     \u001B[38;5;28;01mwith\u001B[39;00m yt_dlp\u001B[38;5;241m.\u001B[39mYoutubeDL(ydl_opts) \u001B[38;5;28;01mas\u001B[39;00m ydl:\n\u001B[0;32m---> 45\u001B[0m         \u001B[43mydl\u001B[49m\u001B[38;5;241;43m.\u001B[39;49m\u001B[43mdownload\u001B[49m\u001B[43m(\u001B[49m\u001B[43murl\u001B[49m\u001B[43m)\u001B[49m\n\u001B[1;32m     47\u001B[0m \u001B[38;5;66;03m# Yield the written blobs\u001B[39;00m\n\u001B[1;32m     48\u001B[0m loader \u001B[38;5;241m=\u001B[39m FileSystemBlobLoader(\u001B[38;5;28mself\u001B[39m\u001B[38;5;241m.\u001B[39msave_dir, glob\u001B[38;5;241m=\u001B[39m\u001B[38;5;124m\"\u001B[39m\u001B[38;5;124m*.m4a\u001B[39m\u001B[38;5;124m\"\u001B[39m)\n",
      "File \u001B[0;32m~/ENVS/llm-learning/lib/python3.10/site-packages/yt_dlp/YoutubeDL.py:3583\u001B[0m, in \u001B[0;36mYoutubeDL.download\u001B[0;34m(self, url_list)\u001B[0m\n\u001B[1;32m   3580\u001B[0m     \u001B[38;5;28;01mraise\u001B[39;00m SameFileError(outtmpl)\n\u001B[1;32m   3582\u001B[0m \u001B[38;5;28;01mfor\u001B[39;00m url \u001B[38;5;129;01min\u001B[39;00m url_list:\n\u001B[0;32m-> 3583\u001B[0m     \u001B[38;5;28;43mself\u001B[39;49m\u001B[38;5;241;43m.\u001B[39;49m\u001B[43m__download_wrapper\u001B[49m\u001B[43m(\u001B[49m\u001B[38;5;28;43mself\u001B[39;49m\u001B[38;5;241;43m.\u001B[39;49m\u001B[43mextract_info\u001B[49m\u001B[43m)\u001B[49m\u001B[43m(\u001B[49m\n\u001B[1;32m   3584\u001B[0m \u001B[43m        \u001B[49m\u001B[43murl\u001B[49m\u001B[43m,\u001B[49m\u001B[43m \u001B[49m\u001B[43mforce_generic_extractor\u001B[49m\u001B[38;5;241;43m=\u001B[39;49m\u001B[38;5;28;43mself\u001B[39;49m\u001B[38;5;241;43m.\u001B[39;49m\u001B[43mparams\u001B[49m\u001B[38;5;241;43m.\u001B[39;49m\u001B[43mget\u001B[49m\u001B[43m(\u001B[49m\u001B[38;5;124;43m'\u001B[39;49m\u001B[38;5;124;43mforce_generic_extractor\u001B[39;49m\u001B[38;5;124;43m'\u001B[39;49m\u001B[43m,\u001B[49m\u001B[43m \u001B[49m\u001B[38;5;28;43;01mFalse\u001B[39;49;00m\u001B[43m)\u001B[49m\u001B[43m)\u001B[49m\n\u001B[1;32m   3586\u001B[0m \u001B[38;5;28;01mreturn\u001B[39;00m \u001B[38;5;28mself\u001B[39m\u001B[38;5;241m.\u001B[39m_download_retcode\n",
      "File \u001B[0;32m~/ENVS/llm-learning/lib/python3.10/site-packages/yt_dlp/YoutubeDL.py:3558\u001B[0m, in \u001B[0;36mYoutubeDL.__download_wrapper.<locals>.wrapper\u001B[0;34m(*args, **kwargs)\u001B[0m\n\u001B[1;32m   3555\u001B[0m \u001B[38;5;129m@functools\u001B[39m\u001B[38;5;241m.\u001B[39mwraps(func)\n\u001B[1;32m   3556\u001B[0m \u001B[38;5;28;01mdef\u001B[39;00m \u001B[38;5;21mwrapper\u001B[39m(\u001B[38;5;241m*\u001B[39margs, \u001B[38;5;241m*\u001B[39m\u001B[38;5;241m*\u001B[39mkwargs):\n\u001B[1;32m   3557\u001B[0m     \u001B[38;5;28;01mtry\u001B[39;00m:\n\u001B[0;32m-> 3558\u001B[0m         res \u001B[38;5;241m=\u001B[39m \u001B[43mfunc\u001B[49m\u001B[43m(\u001B[49m\u001B[38;5;241;43m*\u001B[39;49m\u001B[43margs\u001B[49m\u001B[43m,\u001B[49m\u001B[43m \u001B[49m\u001B[38;5;241;43m*\u001B[39;49m\u001B[38;5;241;43m*\u001B[39;49m\u001B[43mkwargs\u001B[49m\u001B[43m)\u001B[49m\n\u001B[1;32m   3559\u001B[0m     \u001B[38;5;28;01mexcept\u001B[39;00m UnavailableVideoError \u001B[38;5;28;01mas\u001B[39;00m e:\n\u001B[1;32m   3560\u001B[0m         \u001B[38;5;28mself\u001B[39m\u001B[38;5;241m.\u001B[39mreport_error(e)\n",
      "File \u001B[0;32m~/ENVS/llm-learning/lib/python3.10/site-packages/yt_dlp/YoutubeDL.py:1595\u001B[0m, in \u001B[0;36mYoutubeDL.extract_info\u001B[0;34m(self, url, download, ie_key, extra_info, process, force_generic_extractor)\u001B[0m\n\u001B[1;32m   1593\u001B[0m             \u001B[38;5;28;01mraise\u001B[39;00m ExistingVideoReached()\n\u001B[1;32m   1594\u001B[0m         \u001B[38;5;28;01mbreak\u001B[39;00m\n\u001B[0;32m-> 1595\u001B[0m     \u001B[38;5;28;01mreturn\u001B[39;00m \u001B[38;5;28;43mself\u001B[39;49m\u001B[38;5;241;43m.\u001B[39;49m\u001B[43m__extract_info\u001B[49m\u001B[43m(\u001B[49m\u001B[43murl\u001B[49m\u001B[43m,\u001B[49m\u001B[43m \u001B[49m\u001B[38;5;28;43mself\u001B[39;49m\u001B[38;5;241;43m.\u001B[39;49m\u001B[43mget_info_extractor\u001B[49m\u001B[43m(\u001B[49m\u001B[43mkey\u001B[49m\u001B[43m)\u001B[49m\u001B[43m,\u001B[49m\u001B[43m \u001B[49m\u001B[43mdownload\u001B[49m\u001B[43m,\u001B[49m\u001B[43m \u001B[49m\u001B[43mextra_info\u001B[49m\u001B[43m,\u001B[49m\u001B[43m \u001B[49m\u001B[43mprocess\u001B[49m\u001B[43m)\u001B[49m\n\u001B[1;32m   1596\u001B[0m \u001B[38;5;28;01melse\u001B[39;00m:\n\u001B[1;32m   1597\u001B[0m     extractors_restricted \u001B[38;5;241m=\u001B[39m \u001B[38;5;28mself\u001B[39m\u001B[38;5;241m.\u001B[39mparams\u001B[38;5;241m.\u001B[39mget(\u001B[38;5;124m'\u001B[39m\u001B[38;5;124mallowed_extractors\u001B[39m\u001B[38;5;124m'\u001B[39m) \u001B[38;5;129;01mnot\u001B[39;00m \u001B[38;5;129;01min\u001B[39;00m (\u001B[38;5;28;01mNone\u001B[39;00m, [\u001B[38;5;124m'\u001B[39m\u001B[38;5;124mdefault\u001B[39m\u001B[38;5;124m'\u001B[39m])\n",
      "File \u001B[0;32m~/ENVS/llm-learning/lib/python3.10/site-packages/yt_dlp/YoutubeDL.py:1624\u001B[0m, in \u001B[0;36mYoutubeDL._handle_extraction_exceptions.<locals>.wrapper\u001B[0;34m(self, *args, **kwargs)\u001B[0m\n\u001B[1;32m   1622\u001B[0m     \u001B[38;5;28mself\u001B[39m\u001B[38;5;241m.\u001B[39mreport_error(msg)\n\u001B[1;32m   1623\u001B[0m \u001B[38;5;28;01mexcept\u001B[39;00m ExtractorError \u001B[38;5;28;01mas\u001B[39;00m e:  \u001B[38;5;66;03m# An error we somewhat expected\u001B[39;00m\n\u001B[0;32m-> 1624\u001B[0m     \u001B[38;5;28;43mself\u001B[39;49m\u001B[38;5;241;43m.\u001B[39;49m\u001B[43mreport_error\u001B[49m\u001B[43m(\u001B[49m\u001B[38;5;28;43mstr\u001B[39;49m\u001B[43m(\u001B[49m\u001B[43me\u001B[49m\u001B[43m)\u001B[49m\u001B[43m,\u001B[49m\u001B[43m \u001B[49m\u001B[43me\u001B[49m\u001B[38;5;241;43m.\u001B[39;49m\u001B[43mformat_traceback\u001B[49m\u001B[43m(\u001B[49m\u001B[43m)\u001B[49m\u001B[43m)\u001B[49m\n\u001B[1;32m   1625\u001B[0m \u001B[38;5;28;01mexcept\u001B[39;00m \u001B[38;5;167;01mException\u001B[39;00m \u001B[38;5;28;01mas\u001B[39;00m e:\n\u001B[1;32m   1626\u001B[0m     \u001B[38;5;28;01mif\u001B[39;00m \u001B[38;5;28mself\u001B[39m\u001B[38;5;241m.\u001B[39mparams\u001B[38;5;241m.\u001B[39mget(\u001B[38;5;124m'\u001B[39m\u001B[38;5;124mignoreerrors\u001B[39m\u001B[38;5;124m'\u001B[39m):\n",
      "File \u001B[0;32m~/ENVS/llm-learning/lib/python3.10/site-packages/yt_dlp/YoutubeDL.py:1073\u001B[0m, in \u001B[0;36mYoutubeDL.report_error\u001B[0;34m(self, message, *args, **kwargs)\u001B[0m\n\u001B[1;32m   1068\u001B[0m \u001B[38;5;28;01mdef\u001B[39;00m \u001B[38;5;21mreport_error\u001B[39m(\u001B[38;5;28mself\u001B[39m, message, \u001B[38;5;241m*\u001B[39margs, \u001B[38;5;241m*\u001B[39m\u001B[38;5;241m*\u001B[39mkwargs):\n\u001B[1;32m   1069\u001B[0m \u001B[38;5;250m    \u001B[39m\u001B[38;5;124;03m'''\u001B[39;00m\n\u001B[1;32m   1070\u001B[0m \u001B[38;5;124;03m    Do the same as trouble, but prefixes the message with 'ERROR:', colored\u001B[39;00m\n\u001B[1;32m   1071\u001B[0m \u001B[38;5;124;03m    in red if stderr is a tty file.\u001B[39;00m\n\u001B[1;32m   1072\u001B[0m \u001B[38;5;124;03m    '''\u001B[39;00m\n\u001B[0;32m-> 1073\u001B[0m     \u001B[38;5;28;43mself\u001B[39;49m\u001B[38;5;241;43m.\u001B[39;49m\u001B[43mtrouble\u001B[49m\u001B[43m(\u001B[49m\u001B[38;5;124;43mf\u001B[39;49m\u001B[38;5;124;43m'\u001B[39;49m\u001B[38;5;132;43;01m{\u001B[39;49;00m\u001B[38;5;28;43mself\u001B[39;49m\u001B[38;5;241;43m.\u001B[39;49m\u001B[43m_format_err\u001B[49m\u001B[43m(\u001B[49m\u001B[38;5;124;43m\"\u001B[39;49m\u001B[38;5;124;43mERROR:\u001B[39;49m\u001B[38;5;124;43m\"\u001B[39;49m\u001B[43m,\u001B[49m\u001B[38;5;250;43m \u001B[39;49m\u001B[38;5;28;43mself\u001B[39;49m\u001B[38;5;241;43m.\u001B[39;49m\u001B[43mStyles\u001B[49m\u001B[38;5;241;43m.\u001B[39;49m\u001B[43mERROR\u001B[49m\u001B[43m)\u001B[49m\u001B[38;5;132;43;01m}\u001B[39;49;00m\u001B[38;5;124;43m \u001B[39;49m\u001B[38;5;132;43;01m{\u001B[39;49;00m\u001B[43mmessage\u001B[49m\u001B[38;5;132;43;01m}\u001B[39;49;00m\u001B[38;5;124;43m'\u001B[39;49m\u001B[43m,\u001B[49m\u001B[43m \u001B[49m\u001B[38;5;241;43m*\u001B[39;49m\u001B[43margs\u001B[49m\u001B[43m,\u001B[49m\u001B[43m \u001B[49m\u001B[38;5;241;43m*\u001B[39;49m\u001B[38;5;241;43m*\u001B[39;49m\u001B[43mkwargs\u001B[49m\u001B[43m)\u001B[49m\n",
      "File \u001B[0;32m~/ENVS/llm-learning/lib/python3.10/site-packages/yt_dlp/YoutubeDL.py:1012\u001B[0m, in \u001B[0;36mYoutubeDL.trouble\u001B[0;34m(self, message, tb, is_error)\u001B[0m\n\u001B[1;32m   1010\u001B[0m     \u001B[38;5;28;01melse\u001B[39;00m:\n\u001B[1;32m   1011\u001B[0m         exc_info \u001B[38;5;241m=\u001B[39m sys\u001B[38;5;241m.\u001B[39mexc_info()\n\u001B[0;32m-> 1012\u001B[0m     \u001B[38;5;28;01mraise\u001B[39;00m DownloadError(message, exc_info)\n\u001B[1;32m   1013\u001B[0m \u001B[38;5;28mself\u001B[39m\u001B[38;5;241m.\u001B[39m_download_retcode \u001B[38;5;241m=\u001B[39m \u001B[38;5;241m1\u001B[39m\n",
      "\u001B[0;31mDownloadError\u001B[0m: ERROR: [youtube] jGwO_UgTS7I: Failed to extract any player response; please report this issue on  https://github.com/yt-dlp/yt-dlp/issues?q= , filling out the appropriate issue template. Confirm you are on the latest version using  yt-dlp -U"
     ]
    }
   ],
   "source": [
    "from langchain.document_loaders.generic import GenericLoader\n",
    "from langchain.document_loaders.parsers import OpenAIWhisperParser\n",
    "from langchain.document_loaders.blob_loaders.youtube_audio import YoutubeAudioLoader\n",
    "\n",
    "\n",
    "url=\"https://www.youtube.com/watch?v=jGwO_UgTS7I\"\n",
    "save_dir=\"docs/youtube/\"\n",
    "\n",
    "# 创建一个 GenericLoader Class 实例\n",
    "loader = GenericLoader(\n",
    "    #将链接url中的Youtube视频的音频下载下来,存在本地路径save_dir\n",
    "    YoutubeAudioLoader([url], save_dir),\n",
    "\n",
    "    #使用OpenAIWhisperPaser解析器将音频转化为文本\n",
    "    OpenAIWhisperParser()\n",
    ")\n",
    "\n",
    "# 调用 GenericLoader Class 的函数 load对视频的音频文件进行加载\n",
    "pages: List[Document] = loader.load()\n",
    "print(len(pages))\n",
    "print(pages[0].metadata)\n",
    "pages[0].page_content[:100]"
   ]
  },
  {
   "cell_type": "markdown",
   "id": "5b7ddc7d-2d40-4811-8cb3-5e73344ebe24",
   "metadata": {
    "pycharm": {
     "name": "#%% md\n"
    }
   },
   "source": [
    "## 三、网页文档\n",
    "\n",
    "在第二部分，我们对于给定的 YouTube 视频链接 (URL)，使用 LangChain 加载器将视频的音频下载到本地，然后使用 OpenAIWhisperPaser 解析器将音频转化为文本。\n",
    "\n",
    "本部分，对于给定网页文档链接(URLs)，我们学习如何对其进行加载。这里我们对Github上的网页文档进行加载，该文档格式为markdown。"
   ]
  },
  {
   "cell_type": "code",
   "execution_count": 16,
   "id": "1a68375f-44ae-4905-bf9c-1f01ec800481",
   "metadata": {
    "pycharm": {
     "name": "#%%\n"
    }
   },
   "outputs": [
    {
     "ename": "SSLError",
     "evalue": "HTTPSConnectionPool(host='github.com', port=443): Max retries exceeded with url: /basecamp/handbook/blob/master/our-internal-systems.md (Caused by SSLError(SSLEOFError(8, 'EOF occurred in violation of protocol (_ssl.c:2426)')))",
     "output_type": "error",
     "traceback": [
      "\u001B[0;31m---------------------------------------------------------------------------\u001B[0m",
      "\u001B[0;31mSSLError\u001B[0m                                  Traceback (most recent call last)",
      "\u001B[0;31mSSLError\u001B[0m: EOF occurred in violation of protocol (_ssl.c:2426)",
      "\nThe above exception was the direct cause of the following exception:\n",
      "\u001B[0;31mMaxRetryError\u001B[0m                             Traceback (most recent call last)",
      "File \u001B[0;32m~/ENVS/llm-learning/lib/python3.10/site-packages/requests/adapters.py:589\u001B[0m, in \u001B[0;36mHTTPAdapter.send\u001B[0;34m(self, request, stream, timeout, verify, cert, proxies)\u001B[0m\n\u001B[1;32m    588\u001B[0m \u001B[38;5;28;01mtry\u001B[39;00m:\n\u001B[0;32m--> 589\u001B[0m     resp \u001B[38;5;241m=\u001B[39m \u001B[43mconn\u001B[49m\u001B[38;5;241;43m.\u001B[39;49m\u001B[43murlopen\u001B[49m\u001B[43m(\u001B[49m\n\u001B[1;32m    590\u001B[0m \u001B[43m        \u001B[49m\u001B[43mmethod\u001B[49m\u001B[38;5;241;43m=\u001B[39;49m\u001B[43mrequest\u001B[49m\u001B[38;5;241;43m.\u001B[39;49m\u001B[43mmethod\u001B[49m\u001B[43m,\u001B[49m\n\u001B[1;32m    591\u001B[0m \u001B[43m        \u001B[49m\u001B[43murl\u001B[49m\u001B[38;5;241;43m=\u001B[39;49m\u001B[43murl\u001B[49m\u001B[43m,\u001B[49m\n\u001B[1;32m    592\u001B[0m \u001B[43m        \u001B[49m\u001B[43mbody\u001B[49m\u001B[38;5;241;43m=\u001B[39;49m\u001B[43mrequest\u001B[49m\u001B[38;5;241;43m.\u001B[39;49m\u001B[43mbody\u001B[49m\u001B[43m,\u001B[49m\n\u001B[1;32m    593\u001B[0m \u001B[43m        \u001B[49m\u001B[43mheaders\u001B[49m\u001B[38;5;241;43m=\u001B[39;49m\u001B[43mrequest\u001B[49m\u001B[38;5;241;43m.\u001B[39;49m\u001B[43mheaders\u001B[49m\u001B[43m,\u001B[49m\n\u001B[1;32m    594\u001B[0m \u001B[43m        \u001B[49m\u001B[43mredirect\u001B[49m\u001B[38;5;241;43m=\u001B[39;49m\u001B[38;5;28;43;01mFalse\u001B[39;49;00m\u001B[43m,\u001B[49m\n\u001B[1;32m    595\u001B[0m \u001B[43m        \u001B[49m\u001B[43massert_same_host\u001B[49m\u001B[38;5;241;43m=\u001B[39;49m\u001B[38;5;28;43;01mFalse\u001B[39;49;00m\u001B[43m,\u001B[49m\n\u001B[1;32m    596\u001B[0m \u001B[43m        \u001B[49m\u001B[43mpreload_content\u001B[49m\u001B[38;5;241;43m=\u001B[39;49m\u001B[38;5;28;43;01mFalse\u001B[39;49;00m\u001B[43m,\u001B[49m\n\u001B[1;32m    597\u001B[0m \u001B[43m        \u001B[49m\u001B[43mdecode_content\u001B[49m\u001B[38;5;241;43m=\u001B[39;49m\u001B[38;5;28;43;01mFalse\u001B[39;49;00m\u001B[43m,\u001B[49m\n\u001B[1;32m    598\u001B[0m \u001B[43m        \u001B[49m\u001B[43mretries\u001B[49m\u001B[38;5;241;43m=\u001B[39;49m\u001B[38;5;28;43mself\u001B[39;49m\u001B[38;5;241;43m.\u001B[39;49m\u001B[43mmax_retries\u001B[49m\u001B[43m,\u001B[49m\n\u001B[1;32m    599\u001B[0m \u001B[43m        \u001B[49m\u001B[43mtimeout\u001B[49m\u001B[38;5;241;43m=\u001B[39;49m\u001B[43mtimeout\u001B[49m\u001B[43m,\u001B[49m\n\u001B[1;32m    600\u001B[0m \u001B[43m        \u001B[49m\u001B[43mchunked\u001B[49m\u001B[38;5;241;43m=\u001B[39;49m\u001B[43mchunked\u001B[49m\u001B[43m,\u001B[49m\n\u001B[1;32m    601\u001B[0m \u001B[43m    \u001B[49m\u001B[43m)\u001B[49m\n\u001B[1;32m    603\u001B[0m \u001B[38;5;28;01mexcept\u001B[39;00m (ProtocolError, \u001B[38;5;167;01mOSError\u001B[39;00m) \u001B[38;5;28;01mas\u001B[39;00m err:\n",
      "File \u001B[0;32m~/ENVS/llm-learning/lib/python3.10/site-packages/urllib3/connectionpool.py:847\u001B[0m, in \u001B[0;36mHTTPConnectionPool.urlopen\u001B[0;34m(self, method, url, body, headers, retries, redirect, assert_same_host, timeout, pool_timeout, release_conn, chunked, body_pos, preload_content, decode_content, **response_kw)\u001B[0m\n\u001B[1;32m    845\u001B[0m     new_e \u001B[38;5;241m=\u001B[39m ProtocolError(\u001B[38;5;124m\"\u001B[39m\u001B[38;5;124mConnection aborted.\u001B[39m\u001B[38;5;124m\"\u001B[39m, new_e)\n\u001B[0;32m--> 847\u001B[0m retries \u001B[38;5;241m=\u001B[39m \u001B[43mretries\u001B[49m\u001B[38;5;241;43m.\u001B[39;49m\u001B[43mincrement\u001B[49m\u001B[43m(\u001B[49m\n\u001B[1;32m    848\u001B[0m \u001B[43m    \u001B[49m\u001B[43mmethod\u001B[49m\u001B[43m,\u001B[49m\u001B[43m \u001B[49m\u001B[43murl\u001B[49m\u001B[43m,\u001B[49m\u001B[43m \u001B[49m\u001B[43merror\u001B[49m\u001B[38;5;241;43m=\u001B[39;49m\u001B[43mnew_e\u001B[49m\u001B[43m,\u001B[49m\u001B[43m \u001B[49m\u001B[43m_pool\u001B[49m\u001B[38;5;241;43m=\u001B[39;49m\u001B[38;5;28;43mself\u001B[39;49m\u001B[43m,\u001B[49m\u001B[43m \u001B[49m\u001B[43m_stacktrace\u001B[49m\u001B[38;5;241;43m=\u001B[39;49m\u001B[43msys\u001B[49m\u001B[38;5;241;43m.\u001B[39;49m\u001B[43mexc_info\u001B[49m\u001B[43m(\u001B[49m\u001B[43m)\u001B[49m\u001B[43m[\u001B[49m\u001B[38;5;241;43m2\u001B[39;49m\u001B[43m]\u001B[49m\n\u001B[1;32m    849\u001B[0m \u001B[43m\u001B[49m\u001B[43m)\u001B[49m\n\u001B[1;32m    850\u001B[0m retries\u001B[38;5;241m.\u001B[39msleep()\n",
      "File \u001B[0;32m~/ENVS/llm-learning/lib/python3.10/site-packages/urllib3/util/retry.py:515\u001B[0m, in \u001B[0;36mRetry.increment\u001B[0;34m(self, method, url, response, error, _pool, _stacktrace)\u001B[0m\n\u001B[1;32m    514\u001B[0m     reason \u001B[38;5;241m=\u001B[39m error \u001B[38;5;129;01mor\u001B[39;00m ResponseError(cause)\n\u001B[0;32m--> 515\u001B[0m     \u001B[38;5;28;01mraise\u001B[39;00m MaxRetryError(_pool, url, reason) \u001B[38;5;28;01mfrom\u001B[39;00m \u001B[38;5;21;01mreason\u001B[39;00m  \u001B[38;5;66;03m# type: ignore[arg-type]\u001B[39;00m\n\u001B[1;32m    517\u001B[0m log\u001B[38;5;241m.\u001B[39mdebug(\u001B[38;5;124m\"\u001B[39m\u001B[38;5;124mIncremented Retry for (url=\u001B[39m\u001B[38;5;124m'\u001B[39m\u001B[38;5;132;01m%s\u001B[39;00m\u001B[38;5;124m'\u001B[39m\u001B[38;5;124m): \u001B[39m\u001B[38;5;132;01m%r\u001B[39;00m\u001B[38;5;124m\"\u001B[39m, url, new_retry)\n",
      "\u001B[0;31mMaxRetryError\u001B[0m: HTTPSConnectionPool(host='github.com', port=443): Max retries exceeded with url: /basecamp/handbook/blob/master/our-internal-systems.md (Caused by SSLError(SSLEOFError(8, 'EOF occurred in violation of protocol (_ssl.c:2426)')))",
      "\nDuring handling of the above exception, another exception occurred:\n",
      "\u001B[0;31mSSLError\u001B[0m                                  Traceback (most recent call last)",
      "Cell \u001B[0;32mIn[16], line 13\u001B[0m\n\u001B[1;32m     10\u001B[0m loader \u001B[38;5;241m=\u001B[39m WebBaseLoader(web_path\u001B[38;5;241m=\u001B[39murl, header_template\u001B[38;5;241m=\u001B[39mheader)\n\u001B[1;32m     12\u001B[0m \u001B[38;5;66;03m# 调用 WebBaseLoader Class 的函数 load对文件进行加载\u001B[39;00m\n\u001B[0;32m---> 13\u001B[0m pages: List[Document] \u001B[38;5;241m=\u001B[39m \u001B[43mloader\u001B[49m\u001B[38;5;241;43m.\u001B[39;49m\u001B[43mload\u001B[49m\u001B[43m(\u001B[49m\u001B[43m)\u001B[49m\n\u001B[1;32m     14\u001B[0m \u001B[38;5;28mprint\u001B[39m(\u001B[38;5;28mlen\u001B[39m(pages))\n\u001B[1;32m     15\u001B[0m \u001B[38;5;28mprint\u001B[39m(pages[\u001B[38;5;241m0\u001B[39m]\u001B[38;5;241m.\u001B[39mmetadata)\n",
      "File \u001B[0;32m~/ENVS/llm-learning/lib/python3.10/site-packages/langchain_core/document_loaders/base.py:29\u001B[0m, in \u001B[0;36mBaseLoader.load\u001B[0;34m(self)\u001B[0m\n\u001B[1;32m     27\u001B[0m \u001B[38;5;28;01mdef\u001B[39;00m \u001B[38;5;21mload\u001B[39m(\u001B[38;5;28mself\u001B[39m) \u001B[38;5;241m-\u001B[39m\u001B[38;5;241m>\u001B[39m List[Document]:\n\u001B[1;32m     28\u001B[0m \u001B[38;5;250m    \u001B[39m\u001B[38;5;124;03m\"\"\"Load data into Document objects.\"\"\"\u001B[39;00m\n\u001B[0;32m---> 29\u001B[0m     \u001B[38;5;28;01mreturn\u001B[39;00m \u001B[38;5;28;43mlist\u001B[39;49m\u001B[43m(\u001B[49m\u001B[38;5;28;43mself\u001B[39;49m\u001B[38;5;241;43m.\u001B[39;49m\u001B[43mlazy_load\u001B[49m\u001B[43m(\u001B[49m\u001B[43m)\u001B[49m\u001B[43m)\u001B[49m\n",
      "File \u001B[0;32m~/ENVS/llm-learning/lib/python3.10/site-packages/langchain_community/document_loaders/web_base.py:253\u001B[0m, in \u001B[0;36mWebBaseLoader.lazy_load\u001B[0;34m(self)\u001B[0m\n\u001B[1;32m    251\u001B[0m \u001B[38;5;250m\u001B[39m\u001B[38;5;124;03m\"\"\"Lazy load text from the url(s) in web_path.\"\"\"\u001B[39;00m\n\u001B[1;32m    252\u001B[0m \u001B[38;5;28;01mfor\u001B[39;00m path \u001B[38;5;129;01min\u001B[39;00m \u001B[38;5;28mself\u001B[39m\u001B[38;5;241m.\u001B[39mweb_paths:\n\u001B[0;32m--> 253\u001B[0m     soup \u001B[38;5;241m=\u001B[39m \u001B[38;5;28;43mself\u001B[39;49m\u001B[38;5;241;43m.\u001B[39;49m\u001B[43m_scrape\u001B[49m\u001B[43m(\u001B[49m\u001B[43mpath\u001B[49m\u001B[43m,\u001B[49m\u001B[43m \u001B[49m\u001B[43mbs_kwargs\u001B[49m\u001B[38;5;241;43m=\u001B[39;49m\u001B[38;5;28;43mself\u001B[39;49m\u001B[38;5;241;43m.\u001B[39;49m\u001B[43mbs_kwargs\u001B[49m\u001B[43m)\u001B[49m\n\u001B[1;32m    254\u001B[0m     text \u001B[38;5;241m=\u001B[39m soup\u001B[38;5;241m.\u001B[39mget_text(\u001B[38;5;241m*\u001B[39m\u001B[38;5;241m*\u001B[39m\u001B[38;5;28mself\u001B[39m\u001B[38;5;241m.\u001B[39mbs_get_text_kwargs)\n\u001B[1;32m    255\u001B[0m     metadata \u001B[38;5;241m=\u001B[39m _build_metadata(soup, path)\n",
      "File \u001B[0;32m~/ENVS/llm-learning/lib/python3.10/site-packages/langchain_community/document_loaders/web_base.py:232\u001B[0m, in \u001B[0;36mWebBaseLoader._scrape\u001B[0;34m(self, url, parser, bs_kwargs)\u001B[0m\n\u001B[1;32m    228\u001B[0m         parser \u001B[38;5;241m=\u001B[39m \u001B[38;5;28mself\u001B[39m\u001B[38;5;241m.\u001B[39mdefault_parser\n\u001B[1;32m    230\u001B[0m \u001B[38;5;28mself\u001B[39m\u001B[38;5;241m.\u001B[39m_check_parser(parser)\n\u001B[0;32m--> 232\u001B[0m html_doc \u001B[38;5;241m=\u001B[39m \u001B[38;5;28;43mself\u001B[39;49m\u001B[38;5;241;43m.\u001B[39;49m\u001B[43msession\u001B[49m\u001B[38;5;241;43m.\u001B[39;49m\u001B[43mget\u001B[49m\u001B[43m(\u001B[49m\u001B[43murl\u001B[49m\u001B[43m,\u001B[49m\u001B[43m \u001B[49m\u001B[38;5;241;43m*\u001B[39;49m\u001B[38;5;241;43m*\u001B[39;49m\u001B[38;5;28;43mself\u001B[39;49m\u001B[38;5;241;43m.\u001B[39;49m\u001B[43mrequests_kwargs\u001B[49m\u001B[43m)\u001B[49m\n\u001B[1;32m    233\u001B[0m \u001B[38;5;28;01mif\u001B[39;00m \u001B[38;5;28mself\u001B[39m\u001B[38;5;241m.\u001B[39mraise_for_status:\n\u001B[1;32m    234\u001B[0m     html_doc\u001B[38;5;241m.\u001B[39mraise_for_status()\n",
      "File \u001B[0;32m~/ENVS/llm-learning/lib/python3.10/site-packages/requests/sessions.py:602\u001B[0m, in \u001B[0;36mSession.get\u001B[0;34m(self, url, **kwargs)\u001B[0m\n\u001B[1;32m    594\u001B[0m \u001B[38;5;250m\u001B[39m\u001B[38;5;124mr\u001B[39m\u001B[38;5;124;03m\"\"\"Sends a GET request. Returns :class:`Response` object.\u001B[39;00m\n\u001B[1;32m    595\u001B[0m \n\u001B[1;32m    596\u001B[0m \u001B[38;5;124;03m:param url: URL for the new :class:`Request` object.\u001B[39;00m\n\u001B[1;32m    597\u001B[0m \u001B[38;5;124;03m:param \\*\\*kwargs: Optional arguments that ``request`` takes.\u001B[39;00m\n\u001B[1;32m    598\u001B[0m \u001B[38;5;124;03m:rtype: requests.Response\u001B[39;00m\n\u001B[1;32m    599\u001B[0m \u001B[38;5;124;03m\"\"\"\u001B[39;00m\n\u001B[1;32m    601\u001B[0m kwargs\u001B[38;5;241m.\u001B[39msetdefault(\u001B[38;5;124m\"\u001B[39m\u001B[38;5;124mallow_redirects\u001B[39m\u001B[38;5;124m\"\u001B[39m, \u001B[38;5;28;01mTrue\u001B[39;00m)\n\u001B[0;32m--> 602\u001B[0m \u001B[38;5;28;01mreturn\u001B[39;00m \u001B[38;5;28;43mself\u001B[39;49m\u001B[38;5;241;43m.\u001B[39;49m\u001B[43mrequest\u001B[49m\u001B[43m(\u001B[49m\u001B[38;5;124;43m\"\u001B[39;49m\u001B[38;5;124;43mGET\u001B[39;49m\u001B[38;5;124;43m\"\u001B[39;49m\u001B[43m,\u001B[49m\u001B[43m \u001B[49m\u001B[43murl\u001B[49m\u001B[43m,\u001B[49m\u001B[43m \u001B[49m\u001B[38;5;241;43m*\u001B[39;49m\u001B[38;5;241;43m*\u001B[39;49m\u001B[43mkwargs\u001B[49m\u001B[43m)\u001B[49m\n",
      "File \u001B[0;32m~/ENVS/llm-learning/lib/python3.10/site-packages/requests/sessions.py:589\u001B[0m, in \u001B[0;36mSession.request\u001B[0;34m(self, method, url, params, data, headers, cookies, files, auth, timeout, allow_redirects, proxies, hooks, stream, verify, cert, json)\u001B[0m\n\u001B[1;32m    584\u001B[0m send_kwargs \u001B[38;5;241m=\u001B[39m {\n\u001B[1;32m    585\u001B[0m     \u001B[38;5;124m\"\u001B[39m\u001B[38;5;124mtimeout\u001B[39m\u001B[38;5;124m\"\u001B[39m: timeout,\n\u001B[1;32m    586\u001B[0m     \u001B[38;5;124m\"\u001B[39m\u001B[38;5;124mallow_redirects\u001B[39m\u001B[38;5;124m\"\u001B[39m: allow_redirects,\n\u001B[1;32m    587\u001B[0m }\n\u001B[1;32m    588\u001B[0m send_kwargs\u001B[38;5;241m.\u001B[39mupdate(settings)\n\u001B[0;32m--> 589\u001B[0m resp \u001B[38;5;241m=\u001B[39m \u001B[38;5;28;43mself\u001B[39;49m\u001B[38;5;241;43m.\u001B[39;49m\u001B[43msend\u001B[49m\u001B[43m(\u001B[49m\u001B[43mprep\u001B[49m\u001B[43m,\u001B[49m\u001B[43m \u001B[49m\u001B[38;5;241;43m*\u001B[39;49m\u001B[38;5;241;43m*\u001B[39;49m\u001B[43msend_kwargs\u001B[49m\u001B[43m)\u001B[49m\n\u001B[1;32m    591\u001B[0m \u001B[38;5;28;01mreturn\u001B[39;00m resp\n",
      "File \u001B[0;32m~/ENVS/llm-learning/lib/python3.10/site-packages/requests/sessions.py:703\u001B[0m, in \u001B[0;36mSession.send\u001B[0;34m(self, request, **kwargs)\u001B[0m\n\u001B[1;32m    700\u001B[0m start \u001B[38;5;241m=\u001B[39m preferred_clock()\n\u001B[1;32m    702\u001B[0m \u001B[38;5;66;03m# Send the request\u001B[39;00m\n\u001B[0;32m--> 703\u001B[0m r \u001B[38;5;241m=\u001B[39m \u001B[43madapter\u001B[49m\u001B[38;5;241;43m.\u001B[39;49m\u001B[43msend\u001B[49m\u001B[43m(\u001B[49m\u001B[43mrequest\u001B[49m\u001B[43m,\u001B[49m\u001B[43m \u001B[49m\u001B[38;5;241;43m*\u001B[39;49m\u001B[38;5;241;43m*\u001B[39;49m\u001B[43mkwargs\u001B[49m\u001B[43m)\u001B[49m\n\u001B[1;32m    705\u001B[0m \u001B[38;5;66;03m# Total elapsed time of the request (approximately)\u001B[39;00m\n\u001B[1;32m    706\u001B[0m elapsed \u001B[38;5;241m=\u001B[39m preferred_clock() \u001B[38;5;241m-\u001B[39m start\n",
      "File \u001B[0;32m~/ENVS/llm-learning/lib/python3.10/site-packages/requests/adapters.py:620\u001B[0m, in \u001B[0;36mHTTPAdapter.send\u001B[0;34m(self, request, stream, timeout, verify, cert, proxies)\u001B[0m\n\u001B[1;32m    616\u001B[0m         \u001B[38;5;28;01mraise\u001B[39;00m ProxyError(e, request\u001B[38;5;241m=\u001B[39mrequest)\n\u001B[1;32m    618\u001B[0m     \u001B[38;5;28;01mif\u001B[39;00m \u001B[38;5;28misinstance\u001B[39m(e\u001B[38;5;241m.\u001B[39mreason, _SSLError):\n\u001B[1;32m    619\u001B[0m         \u001B[38;5;66;03m# This branch is for urllib3 v1.22 and later.\u001B[39;00m\n\u001B[0;32m--> 620\u001B[0m         \u001B[38;5;28;01mraise\u001B[39;00m SSLError(e, request\u001B[38;5;241m=\u001B[39mrequest)\n\u001B[1;32m    622\u001B[0m     \u001B[38;5;28;01mraise\u001B[39;00m \u001B[38;5;167;01mConnectionError\u001B[39;00m(e, request\u001B[38;5;241m=\u001B[39mrequest)\n\u001B[1;32m    624\u001B[0m \u001B[38;5;28;01mexcept\u001B[39;00m ClosedPoolError \u001B[38;5;28;01mas\u001B[39;00m e:\n",
      "\u001B[0;31mSSLError\u001B[0m: HTTPSConnectionPool(host='github.com', port=443): Max retries exceeded with url: /basecamp/handbook/blob/master/our-internal-systems.md (Caused by SSLError(SSLEOFError(8, 'EOF occurred in violation of protocol (_ssl.c:2426)')))"
     ]
    }
   ],
   "source": [
    "from langchain.document_loaders import WebBaseLoader\n",
    "import json\n",
    "\n",
    "# 创建一个 WebBaseLoader Class 实例\n",
    "url = \"https://github.com/basecamp/handbook/blob/master/our-internal-systems.md\"\n",
    "header = {'User-Agent': 'python-requests/2.27.1', \n",
    "          'Accept-Encoding': 'gzip, deflate, br', \n",
    "          'Accept': '*/*',\n",
    "          'Connection': 'keep-alive'}\n",
    "loader = WebBaseLoader(web_path=url, header_template=header)\n",
    "\n",
    "# 调用 WebBaseLoader Class 的函数 load对文件进行加载\n",
    "pages: List[Document] = loader.load()\n",
    "print(len(pages))\n",
    "print(pages[0].metadata)\n",
    "print(pages[0].page_content[:100])\n",
    "\n",
    "# convert_to_json = json.loads(pages[0].page_content)\n",
    "# extracted_markdow = convert_to_json['payload']['blob']['richText']\n",
    "# print(extracted_markdow)"
   ]
  },
  {
   "cell_type": "markdown",
   "id": "52025103-205e-4137-a116-89f37fcfece1",
   "metadata": {
    "pycharm": {
     "name": "#%% md\n"
    }
   },
   "source": [
    "可以看到上面的文档内容包含许多冗余的信息。通常来讲，我们需要进行对这种数据进行进一步处理(Post Processing)。"
   ]
  },
  {
   "cell_type": "markdown",
   "id": "d35e99b4-dd67-4940-bbeb-b2a59bf8cd3d",
   "metadata": {
    "pycharm": {
     "name": "#%% md\n"
    }
   },
   "source": [
    "## 四、Notion文档\n",
    "\n",
    "- 点击[Notion示例文档](https://yolospace.notion.site/Blendle-s-Employee-Handbook-e31bff7da17346ee99f531087d8b133f)右上方复制按钮(Duplicate)，复制文档到你的Notion空间\n",
    "- 点击右上方`⋯` 按钮，选择导出为Mardown&CSV。导出的文件将为zip文件夹\n",
    "- 解压并保存mardown文档到本地路径`docs/Notion_DB/`"
   ]
  },
  {
   "cell_type": "code",
   "execution_count": 17,
   "id": "081f5ee4-6b5d-45bf-a7e6-079abc560729",
   "metadata": {
    "pycharm": {
     "name": "#%%\n"
    }
   },
   "outputs": [
    {
     "data": {
      "text/plain": "\"# Firing\\n\\nSaying goodbye to Blendle (from a colleague) and to a colleague (from Blendle) is a very normal and natural thing. When done right, it can even be a beautiful thing. \\n\\nWe advise you to read the backdrop below first, but feel free to jump in right away with the 'Here's what you can do'-section :). General note: you do not have to do this alone, so please ask for advice and help!\\n\\n- **Backdrop**\\n    \\n    Saying goodbye to Blendle (from a colleague) and to a colleague (from Blendle) is a \""
     },
     "execution_count": 17,
     "metadata": {},
     "output_type": "execute_result"
    }
   ],
   "source": [
    "from langchain.document_loaders import NotionDirectoryLoader\n",
    "loader = NotionDirectoryLoader(\"docs/Notion_DB\")\n",
    "docs = loader.load()\n",
    "docs[0].page_content[0:500]"
   ]
  }
 ],
 "metadata": {
  "kernelspec": {
   "display_name": "Python 3 (ipykernel)",
   "language": "python",
   "name": "python3"
  },
  "language_info": {
   "codemirror_mode": {
    "name": "ipython",
    "version": 3
   },
   "file_extension": ".py",
   "mimetype": "text/x-python",
   "name": "python",
   "nbconvert_exporter": "python",
   "pygments_lexer": "ipython3",
   "version": "3.9.12"
  }
 },
 "nbformat": 4,
 "nbformat_minor": 5
}